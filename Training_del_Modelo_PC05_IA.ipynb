{
  "cells": [
    {
      "cell_type": "markdown",
      "source": [
        "# Training del Modelo para Clasificar digitos decimales\n",
        "En primer lugar, vamos a instalar la librería  tensorflow que usaremos de aquí en adelante.\n"
      ],
      "metadata": {
        "id": "rPB0wQIJKB2-"
      },
      "id": "rPB0wQIJKB2-"
    },
    {
      "cell_type": "code",
      "source": [
        "!pip install tensorflow"
      ],
      "metadata": {
        "id": "d_T9u6KUYYRH",
        "colab": {
          "base_uri": "https://localhost:8080/"
        },
        "outputId": "74451554-24db-4cd0-ebb9-d742093e4c32"
      },
      "id": "d_T9u6KUYYRH",
      "execution_count": null,
      "outputs": [
        {
          "output_type": "stream",
          "name": "stdout",
          "text": [
            "Requirement already satisfied: tensorflow in /usr/local/lib/python3.10/dist-packages (2.15.0)\n",
            "Requirement already satisfied: absl-py>=1.0.0 in /usr/local/lib/python3.10/dist-packages (from tensorflow) (1.4.0)\n",
            "Requirement already satisfied: astunparse>=1.6.0 in /usr/local/lib/python3.10/dist-packages (from tensorflow) (1.6.3)\n",
            "Requirement already satisfied: flatbuffers>=23.5.26 in /usr/local/lib/python3.10/dist-packages (from tensorflow) (24.3.25)\n",
            "Requirement already satisfied: gast!=0.5.0,!=0.5.1,!=0.5.2,>=0.2.1 in /usr/local/lib/python3.10/dist-packages (from tensorflow) (0.5.4)\n",
            "Requirement already satisfied: google-pasta>=0.1.1 in /usr/local/lib/python3.10/dist-packages (from tensorflow) (0.2.0)\n",
            "Requirement already satisfied: h5py>=2.9.0 in /usr/local/lib/python3.10/dist-packages (from tensorflow) (3.9.0)\n",
            "Requirement already satisfied: libclang>=13.0.0 in /usr/local/lib/python3.10/dist-packages (from tensorflow) (18.1.1)\n",
            "Requirement already satisfied: ml-dtypes~=0.2.0 in /usr/local/lib/python3.10/dist-packages (from tensorflow) (0.2.0)\n",
            "Requirement already satisfied: numpy<2.0.0,>=1.23.5 in /usr/local/lib/python3.10/dist-packages (from tensorflow) (1.25.2)\n",
            "Requirement already satisfied: opt-einsum>=2.3.2 in /usr/local/lib/python3.10/dist-packages (from tensorflow) (3.3.0)\n",
            "Requirement already satisfied: packaging in /usr/local/lib/python3.10/dist-packages (from tensorflow) (24.1)\n",
            "Requirement already satisfied: protobuf!=4.21.0,!=4.21.1,!=4.21.2,!=4.21.3,!=4.21.4,!=4.21.5,<5.0.0dev,>=3.20.3 in /usr/local/lib/python3.10/dist-packages (from tensorflow) (3.20.3)\n",
            "Requirement already satisfied: setuptools in /usr/local/lib/python3.10/dist-packages (from tensorflow) (67.7.2)\n",
            "Requirement already satisfied: six>=1.12.0 in /usr/local/lib/python3.10/dist-packages (from tensorflow) (1.16.0)\n",
            "Requirement already satisfied: termcolor>=1.1.0 in /usr/local/lib/python3.10/dist-packages (from tensorflow) (2.4.0)\n",
            "Requirement already satisfied: typing-extensions>=3.6.6 in /usr/local/lib/python3.10/dist-packages (from tensorflow) (4.12.2)\n",
            "Requirement already satisfied: wrapt<1.15,>=1.11.0 in /usr/local/lib/python3.10/dist-packages (from tensorflow) (1.14.1)\n",
            "Requirement already satisfied: tensorflow-io-gcs-filesystem>=0.23.1 in /usr/local/lib/python3.10/dist-packages (from tensorflow) (0.37.0)\n",
            "Requirement already satisfied: grpcio<2.0,>=1.24.3 in /usr/local/lib/python3.10/dist-packages (from tensorflow) (1.64.1)\n",
            "Requirement already satisfied: tensorboard<2.16,>=2.15 in /usr/local/lib/python3.10/dist-packages (from tensorflow) (2.15.2)\n",
            "Requirement already satisfied: tensorflow-estimator<2.16,>=2.15.0 in /usr/local/lib/python3.10/dist-packages (from tensorflow) (2.15.0)\n",
            "Requirement already satisfied: keras<2.16,>=2.15.0 in /usr/local/lib/python3.10/dist-packages (from tensorflow) (2.15.0)\n",
            "Requirement already satisfied: wheel<1.0,>=0.23.0 in /usr/local/lib/python3.10/dist-packages (from astunparse>=1.6.0->tensorflow) (0.43.0)\n",
            "Requirement already satisfied: google-auth<3,>=1.6.3 in /usr/local/lib/python3.10/dist-packages (from tensorboard<2.16,>=2.15->tensorflow) (2.27.0)\n",
            "Requirement already satisfied: google-auth-oauthlib<2,>=0.5 in /usr/local/lib/python3.10/dist-packages (from tensorboard<2.16,>=2.15->tensorflow) (1.2.0)\n",
            "Requirement already satisfied: markdown>=2.6.8 in /usr/local/lib/python3.10/dist-packages (from tensorboard<2.16,>=2.15->tensorflow) (3.6)\n",
            "Requirement already satisfied: requests<3,>=2.21.0 in /usr/local/lib/python3.10/dist-packages (from tensorboard<2.16,>=2.15->tensorflow) (2.31.0)\n",
            "Requirement already satisfied: tensorboard-data-server<0.8.0,>=0.7.0 in /usr/local/lib/python3.10/dist-packages (from tensorboard<2.16,>=2.15->tensorflow) (0.7.2)\n",
            "Requirement already satisfied: werkzeug>=1.0.1 in /usr/local/lib/python3.10/dist-packages (from tensorboard<2.16,>=2.15->tensorflow) (3.0.3)\n",
            "Requirement already satisfied: cachetools<6.0,>=2.0.0 in /usr/local/lib/python3.10/dist-packages (from google-auth<3,>=1.6.3->tensorboard<2.16,>=2.15->tensorflow) (5.3.3)\n",
            "Requirement already satisfied: pyasn1-modules>=0.2.1 in /usr/local/lib/python3.10/dist-packages (from google-auth<3,>=1.6.3->tensorboard<2.16,>=2.15->tensorflow) (0.4.0)\n",
            "Requirement already satisfied: rsa<5,>=3.1.4 in /usr/local/lib/python3.10/dist-packages (from google-auth<3,>=1.6.3->tensorboard<2.16,>=2.15->tensorflow) (4.9)\n",
            "Requirement already satisfied: requests-oauthlib>=0.7.0 in /usr/local/lib/python3.10/dist-packages (from google-auth-oauthlib<2,>=0.5->tensorboard<2.16,>=2.15->tensorflow) (1.3.1)\n",
            "Requirement already satisfied: charset-normalizer<4,>=2 in /usr/local/lib/python3.10/dist-packages (from requests<3,>=2.21.0->tensorboard<2.16,>=2.15->tensorflow) (3.3.2)\n",
            "Requirement already satisfied: idna<4,>=2.5 in /usr/local/lib/python3.10/dist-packages (from requests<3,>=2.21.0->tensorboard<2.16,>=2.15->tensorflow) (3.7)\n",
            "Requirement already satisfied: urllib3<3,>=1.21.1 in /usr/local/lib/python3.10/dist-packages (from requests<3,>=2.21.0->tensorboard<2.16,>=2.15->tensorflow) (2.0.7)\n",
            "Requirement already satisfied: certifi>=2017.4.17 in /usr/local/lib/python3.10/dist-packages (from requests<3,>=2.21.0->tensorboard<2.16,>=2.15->tensorflow) (2024.6.2)\n",
            "Requirement already satisfied: MarkupSafe>=2.1.1 in /usr/local/lib/python3.10/dist-packages (from werkzeug>=1.0.1->tensorboard<2.16,>=2.15->tensorflow) (2.1.5)\n",
            "Requirement already satisfied: pyasn1<0.7.0,>=0.4.6 in /usr/local/lib/python3.10/dist-packages (from pyasn1-modules>=0.2.1->google-auth<3,>=1.6.3->tensorboard<2.16,>=2.15->tensorflow) (0.6.0)\n",
            "Requirement already satisfied: oauthlib>=3.0.0 in /usr/local/lib/python3.10/dist-packages (from requests-oauthlib>=0.7.0->google-auth-oauthlib<2,>=0.5->tensorboard<2.16,>=2.15->tensorflow) (3.2.2)\n"
          ]
        }
      ]
    },
    {
      "cell_type": "markdown",
      "source": [
        "## Carga del dataset recolectado en la página de _Recolección de Datos_"
      ],
      "metadata": {
        "id": "HG4feGCeKUdb"
      },
      "id": "HG4feGCeKUdb"
    },
    {
      "cell_type": "code",
      "source": [
        "!gdown 1T4nydNtGK4wjKkWVpjdknXphX6c_Oqy7\n",
        "!gdown 1evGAwnHbaKtkxFEfCF9VpCWyCQ9MRBN1"
      ],
      "metadata": {
        "colab": {
          "base_uri": "https://localhost:8080/"
        },
        "id": "AXM0Qsa2d6r4",
        "outputId": "3b84ba54-6db3-4b14-98a8-a315313fca02"
      },
      "id": "AXM0Qsa2d6r4",
      "execution_count": null,
      "outputs": [
        {
          "output_type": "stream",
          "name": "stdout",
          "text": [
            "Downloading...\n",
            "From: https://drive.google.com/uc?id=1T4nydNtGK4wjKkWVpjdknXphX6c_Oqy7\n",
            "To: /content/X.npy\n",
            "100% 4.52M/4.52M [00:00<00:00, 87.5MB/s]\n",
            "Downloading...\n",
            "From: https://drive.google.com/uc?id=1evGAwnHbaKtkxFEfCF9VpCWyCQ9MRBN1\n",
            "To: /content/Y.npy\n",
            "100% 580/580 [00:00<00:00, 1.74MB/s]\n"
          ]
        }
      ]
    },
    {
      "cell_type": "markdown",
      "metadata": {
        "id": "21c66b3b"
      },
      "source": [
        "\n",
        "\n",
        "## Entrenamiento de nuestra Red Neuronal Convolucional\n",
        "\n"
      ],
      "id": "21c66b3b"
    },
    {
      "cell_type": "code",
      "execution_count": null,
      "id": "74640917",
      "metadata": {
        "id": "74640917"
      },
      "outputs": [],
      "source": [
        "import tensorflow as tf # pyp install tensorflow\n",
        "import numpy as np\n",
        "import matplotlib.pyplot as plt\n",
        "from skimage.transform import resize\n",
        "from sklearn.model_selection import train_test_split\n",
        "from sklearn.preprocessing import LabelEncoder"
      ]
    },
    {
      "cell_type": "markdown",
      "metadata": {
        "id": "AUmqbIIfRzf3"
      },
      "source": [
        "## Despues de cargar los datos, vamos a dividir en conjuntos de datos de entrenamiento y de testeo"
      ],
      "id": "AUmqbIIfRzf3"
    },
    {
      "cell_type": "code",
      "execution_count": null,
      "id": "79a7792e",
      "metadata": {
        "colab": {
          "base_uri": "https://localhost:8080/"
        },
        "id": "79a7792e",
        "outputId": "b8f89db6-1cb6-4e86-8e75-16c467b611ec"
      },
      "outputs": [
        {
          "output_type": "execute_result",
          "data": {
            "text/plain": [
              "(113, 200, 200)"
            ]
          },
          "metadata": {},
          "execution_count": 4
        }
      ],
      "source": [
        "## Desempaquetando el conjunto de datos en conjuntos de datos de entrenamiento y de testeo\n",
        "x = np.load('X.npy')\n",
        "Y = np.load('Y.npy')\n",
        "x.shape"
      ]
    },
    {
      "cell_type": "code",
      "execution_count": null,
      "id": "251090bf",
      "metadata": {
        "colab": {
          "base_uri": "https://localhost:8080/"
        },
        "id": "251090bf",
        "outputId": "a0a5dfcb-43e3-4af3-bd72-8c20de7aa508"
      },
      "outputs": [
        {
          "output_type": "execute_result",
          "data": {
            "text/plain": [
              "(113, 28, 28)"
            ]
          },
          "metadata": {},
          "execution_count": 5
        }
      ],
      "source": [
        "x.shape # Comprobamos las dimensionses\n",
        "size = (28, 28)\n",
        "X = np.empty((x.shape[0], size[0], size[1]))\n",
        "\n",
        "for i in range(x.shape[0]):\n",
        "    X[i] = resize(x[i], size)\n",
        "X.shape"
      ]
    },
    {
      "cell_type": "markdown",
      "metadata": {
        "id": "tb9W2kpPSBNP"
      },
      "source": [
        "## **One-hot encoding** de los resultados (En lugar de tener como resultado una sola neurona, tendre 10 donde solo el resultado correcto sera 1 y el resto 0)\n"
      ],
      "id": "tb9W2kpPSBNP"
    },
    {
      "cell_type": "code",
      "execution_count": null,
      "id": "d3d85337",
      "metadata": {
        "id": "d3d85337"
      },
      "outputs": [],
      "source": [
        "from tensorflow.keras.utils import to_categorical\n",
        "Y = to_categorical(Y)"
      ]
    },
    {
      "cell_type": "code",
      "execution_count": null,
      "id": "516c38a9",
      "metadata": {
        "scrolled": true,
        "colab": {
          "base_uri": "https://localhost:8080/"
        },
        "id": "516c38a9",
        "outputId": "642e3e23-c2dc-4756-ef0b-025744330fee"
      },
      "outputs": [
        {
          "output_type": "stream",
          "name": "stdout",
          "text": [
            "[[1. 0. 0. ... 0. 0. 0.]\n",
            " [1. 0. 0. ... 0. 0. 0.]\n",
            " [1. 0. 0. ... 0. 0. 0.]\n",
            " ...\n",
            " [0. 0. 0. ... 0. 0. 1.]\n",
            " [0. 0. 0. ... 0. 0. 1.]\n",
            " [0. 0. 0. ... 0. 0. 1.]]\n"
          ]
        }
      ],
      "source": [
        "print(Y)"
      ]
    },
    {
      "cell_type": "markdown",
      "metadata": {
        "id": "0RN-9AlwSGYv"
      },
      "source": [
        "## Visualizamos el primer dato de nuestro dataset"
      ],
      "id": "0RN-9AlwSGYv"
    },
    {
      "cell_type": "code",
      "execution_count": null,
      "id": "cf2a7a9c",
      "metadata": {
        "colab": {
          "base_uri": "https://localhost:8080/",
          "height": 452
        },
        "id": "cf2a7a9c",
        "outputId": "723df266-f874-42d9-a2f6-2cc65dfc4c2a"
      },
      "outputs": [
        {
          "output_type": "display_data",
          "data": {
            "text/plain": [
              "<Figure size 640x480 with 1 Axes>"
            ],
            "image/png": "[encoded data removed]"
          },
          "metadata": {}
        }
      ],
      "source": [
        "import numpy as np\n",
        "import matplotlib.pyplot as plt # pyp install matplotlib\n",
        "plt.imshow(X[1] , cmap = plt.cm.binary) #si queremos visualizarlo en escala de grises\n",
        "# Mostramos tambien su etiqueta y comprobamos que esta etiquetado correctamente\n",
        "etiq = \"ETIQUETA: \" + str(np.argmax(Y[1]))# Imprimo el numero donde la columna es 1\n",
        "plt.title(etiq)\n",
        "plt.show() ## Para mostrar el grafico"
      ]
    },
    {
      "cell_type": "code",
      "execution_count": null,
      "id": "d2f47d83",
      "metadata": {
        "scrolled": true,
        "id": "d2f47d83",
        "outputId": "46f6ff4f-b442-43ef-eacb-c78604b82584",
        "colab": {
          "base_uri": "https://localhost:8080/"
        }
      },
      "outputs": [
        {
          "output_type": "stream",
          "name": "stdout",
          "text": [
            "[[0.00000000e+00 0.00000000e+00 0.00000000e+00 0.00000000e+00\n",
            "  0.00000000e+00 0.00000000e+00 0.00000000e+00 0.00000000e+00\n",
            "  0.00000000e+00 0.00000000e+00 0.00000000e+00 0.00000000e+00\n",
            "  0.00000000e+00 2.03958116e-08 1.32341589e-06 3.15185772e-06\n",
            "  1.60842576e-06 3.67793688e-08 0.00000000e+00 0.00000000e+00\n",
            "  0.00000000e+00 0.00000000e+00 0.00000000e+00 0.00000000e+00\n",
            "  0.00000000e+00 0.00000000e+00 0.00000000e+00 0.00000000e+00]\n",
            " [0.00000000e+00 0.00000000e+00 0.00000000e+00 0.00000000e+00\n",
            "  0.00000000e+00 0.00000000e+00 0.00000000e+00 0.00000000e+00\n",
            "  0.00000000e+00 0.00000000e+00 1.79741429e-08 2.07103250e-05\n",
            "  7.33413730e-04 5.12144502e-03 2.40713827e-02 3.66397794e-02\n",
            "  2.66478875e-02 8.48360882e-03 1.87131549e-03 6.53533273e-05\n",
            "  1.26332398e-07 0.00000000e+00 0.00000000e+00 0.00000000e+00\n",
            "  0.00000000e+00 0.00000000e+00 0.00000000e+00 0.00000000e+00]\n",
            " [0.00000000e+00 0.00000000e+00 0.00000000e+00 0.00000000e+00\n",
            "  0.00000000e+00 0.00000000e+00 0.00000000e+00 0.00000000e+00\n",
            "  0.00000000e+00 3.57852960e-10 1.09330435e-04 1.68741497e-02\n",
            "  1.53836874e-01 3.63793936e-01 6.01556438e-01 6.89556198e-01\n",
            "  6.24593317e-01 4.47134939e-01 2.26601017e-01 3.55915501e-02\n",
            "  8.70803424e-04 2.04484314e-06 0.00000000e+00 0.00000000e+00\n",
            "  0.00000000e+00 0.00000000e+00 0.00000000e+00 0.00000000e+00]\n",
            " [0.00000000e+00 0.00000000e+00 0.00000000e+00 0.00000000e+00\n",
            "  0.00000000e+00 0.00000000e+00 0.00000000e+00 0.00000000e+00\n",
            "  0.00000000e+00 1.04148995e-06 8.11633571e-03 3.13929753e-01\n",
            "  8.46126761e-01 9.32270632e-01 8.62261690e-01 8.04023806e-01\n",
            "  8.52405370e-01 9.24835328e-01 8.98951938e-01 5.32941904e-01\n",
            "  9.63751766e-02 2.84606546e-03 5.29293725e-06 0.00000000e+00\n",
            "  0.00000000e+00 0.00000000e+00 0.00000000e+00 0.00000000e+00]\n",
            " [0.00000000e+00 0.00000000e+00 0.00000000e+00 0.00000000e+00\n",
            "  0.00000000e+00 0.00000000e+00 0.00000000e+00 0.00000000e+00\n",
            "  0.00000000e+00 6.38841902e-05 5.70233612e-02 7.23338908e-01\n",
            "  9.11364084e-01 3.93631166e-01 1.38668888e-01 7.90873061e-02\n",
            "  1.21236684e-01 2.81280670e-01 6.80543987e-01 9.34407020e-01\n",
            "  6.80138542e-01 1.22827799e-01 1.23180246e-03 6.12802308e-08\n",
            "  0.00000000e+00 0.00000000e+00 0.00000000e+00 0.00000000e+00]\n",
            " [0.00000000e+00 0.00000000e+00 0.00000000e+00 0.00000000e+00\n",
            "  0.00000000e+00 0.00000000e+00 0.00000000e+00 0.00000000e+00\n",
            "  0.00000000e+00 1.06578027e-03 1.86939801e-01 8.99346467e-01\n",
            "  7.24748464e-01 5.24529378e-02 5.16857213e-04 8.71169966e-05\n",
            "  3.08199287e-04 3.97048658e-03 7.63333096e-02 4.99407731e-01\n",
            "  9.31434391e-01 5.56613850e-01 3.00472032e-02 2.56263542e-05\n",
            "  0.00000000e+00 0.00000000e+00 0.00000000e+00 0.00000000e+00]\n",
            " [0.00000000e+00 0.00000000e+00 0.00000000e+00 0.00000000e+00\n",
            "  0.00000000e+00 0.00000000e+00 0.00000000e+00 0.00000000e+00\n",
            "  1.96153239e-07 8.97009083e-03 4.30840970e-01 9.74732033e-01\n",
            "  6.79293099e-01 3.31629920e-02 1.05577052e-07 0.00000000e+00\n",
            "  0.00000000e+00 8.72667030e-07 5.72075537e-04 6.01773308e-02\n",
            "  6.63451297e-01 8.68822793e-01 1.59002691e-01 7.74334215e-04\n",
            "  0.00000000e+00 0.00000000e+00 0.00000000e+00 0.00000000e+00]\n",
            " [0.00000000e+00 0.00000000e+00 0.00000000e+00 0.00000000e+00\n",
            "  0.00000000e+00 0.00000000e+00 0.00000000e+00 0.00000000e+00\n",
            "  1.83533005e-05 3.92439223e-02 6.76445856e-01 9.93164907e-01\n",
            "  6.76509480e-01 3.26941839e-02 1.19905020e-07 0.00000000e+00\n",
            "  0.00000000e+00 0.00000000e+00 3.21321018e-07 4.34329608e-03\n",
            "  3.26641737e-01 9.33152315e-01 3.60821833e-01 4.59295745e-03\n",
            "  0.00000000e+00 0.00000000e+00 0.00000000e+00 0.00000000e+00]\n",
            " [0.00000000e+00 0.00000000e+00 0.00000000e+00 0.00000000e+00\n",
            "  0.00000000e+00 0.00000000e+00 0.00000000e+00 0.00000000e+00\n",
            "  9.44238199e-05 7.95703723e-02 8.04365370e-01 9.96918445e-01\n",
            "  7.21810351e-01 4.63037352e-02 1.96527183e-05 0.00000000e+00\n",
            "  0.00000000e+00 0.00000000e+00 0.00000000e+00 7.85984209e-04\n",
            "  1.87650868e-01 9.06540155e-01 4.94578387e-01 1.11458366e-02\n",
            "  0.00000000e+00 0.00000000e+00 0.00000000e+00 0.00000000e+00]\n",
            " [0.00000000e+00 0.00000000e+00 0.00000000e+00 0.00000000e+00\n",
            "  0.00000000e+00 0.00000000e+00 0.00000000e+00 0.00000000e+00\n",
            "  5.09546343e-04 1.52011869e-01 8.86435944e-01 9.69025307e-01\n",
            "  7.94163463e-01 8.36001913e-02 1.07058232e-04 0.00000000e+00\n",
            "  0.00000000e+00 0.00000000e+00 0.00000000e+00 2.38458777e-04\n",
            "  1.16604857e-01 8.58524645e-01 5.97244075e-01 2.11841346e-02\n",
            "  0.00000000e+00 0.00000000e+00 0.00000000e+00 0.00000000e+00]\n",
            " [0.00000000e+00 0.00000000e+00 0.00000000e+00 0.00000000e+00\n",
            "  0.00000000e+00 0.00000000e+00 0.00000000e+00 0.00000000e+00\n",
            "  2.92397275e-03 3.03966576e-01 9.32003625e-01 5.32087926e-01\n",
            "  2.73922466e-01 1.98539230e-02 1.68476244e-05 0.00000000e+00\n",
            "  0.00000000e+00 0.00000000e+00 0.00000000e+00 1.64294098e-04\n",
            "  1.02332167e-01 8.43938071e-01 6.12885275e-01 2.29782617e-02\n",
            "  0.00000000e+00 0.00000000e+00 0.00000000e+00 0.00000000e+00]\n",
            " [0.00000000e+00 0.00000000e+00 0.00000000e+00 0.00000000e+00\n",
            "  0.00000000e+00 0.00000000e+00 0.00000000e+00 0.00000000e+00\n",
            "  6.72524791e-03 4.25554394e-01 9.19989106e-01 2.34962642e-01\n",
            "  4.43960416e-03 1.33378383e-04 3.83113249e-08 0.00000000e+00\n",
            "  0.00000000e+00 0.00000000e+00 0.00000000e+00 3.10932290e-04\n",
            "  1.28439725e-01 8.69004737e-01 5.79257177e-01 1.90284529e-02\n",
            "  0.00000000e+00 0.00000000e+00 0.00000000e+00 0.00000000e+00]\n",
            " [0.00000000e+00 0.00000000e+00 0.00000000e+00 0.00000000e+00\n",
            "  0.00000000e+00 0.00000000e+00 0.00000000e+00 0.00000000e+00\n",
            "  6.91816150e-03 4.30665760e-01 9.10851246e-01 2.08404631e-01\n",
            "  9.47139967e-04 0.00000000e+00 0.00000000e+00 0.00000000e+00\n",
            "  0.00000000e+00 0.00000000e+00 0.00000000e+00 1.32054835e-03\n",
            "  2.30693875e-01 9.21429260e-01 4.47948715e-01 8.45890268e-03\n",
            "  0.00000000e+00 0.00000000e+00 0.00000000e+00 0.00000000e+00]\n",
            " [0.00000000e+00 0.00000000e+00 0.00000000e+00 0.00000000e+00\n",
            "  0.00000000e+00 0.00000000e+00 0.00000000e+00 0.00000000e+00\n",
            "  7.00446381e-03 4.32635686e-01 9.11718613e-01 2.09667357e-01\n",
            "  9.59566850e-04 0.00000000e+00 0.00000000e+00 0.00000000e+00\n",
            "  0.00000000e+00 0.00000000e+00 6.49780301e-09 3.98954674e-03\n",
            "  3.50785958e-01 9.31393177e-01 2.98980811e-01 2.60614173e-03\n",
            "  0.00000000e+00 0.00000000e+00 0.00000000e+00 0.00000000e+00]\n",
            " [0.00000000e+00 0.00000000e+00 0.00000000e+00 0.00000000e+00\n",
            "  0.00000000e+00 0.00000000e+00 0.00000000e+00 0.00000000e+00\n",
            "  6.69018837e-03 4.24860561e-01 9.15643466e-01 2.21845913e-01\n",
            "  1.12954069e-03 0.00000000e+00 0.00000000e+00 0.00000000e+00\n",
            "  0.00000000e+00 0.00000000e+00 3.18900570e-06 1.83709226e-02\n",
            "  5.40207296e-01 9.01562834e-01 1.84566752e-01 7.95495856e-04\n",
            "  0.00000000e+00 0.00000000e+00 0.00000000e+00 0.00000000e+00]\n",
            " [0.00000000e+00 0.00000000e+00 0.00000000e+00 0.00000000e+00\n",
            "  0.00000000e+00 0.00000000e+00 0.00000000e+00 0.00000000e+00\n",
            "  3.54544927e-03 3.38432804e-01 9.27013709e-01 2.99415032e-01\n",
            "  2.52918712e-03 4.28056152e-12 0.00000000e+00 0.00000000e+00\n",
            "  0.00000000e+00 0.00000000e+00 2.92347175e-05 5.07154056e-02\n",
            "  7.35431801e-01 7.79263626e-01 7.25289395e-02 1.04340385e-04\n",
            "  0.00000000e+00 0.00000000e+00 0.00000000e+00 0.00000000e+00]\n",
            " [0.00000000e+00 0.00000000e+00 0.00000000e+00 0.00000000e+00\n",
            "  0.00000000e+00 0.00000000e+00 0.00000000e+00 0.00000000e+00\n",
            "  1.73903998e-03 2.50180981e-01 9.19188316e-01 4.35044025e-01\n",
            "  8.75481497e-03 1.02004733e-07 0.00000000e+00 0.00000000e+00\n",
            "  0.00000000e+00 0.00000000e+00 4.61702041e-04 1.25852762e-01\n",
            "  8.46312182e-01 6.39800040e-01 3.13182015e-02 9.11117721e-06\n",
            "  0.00000000e+00 0.00000000e+00 0.00000000e+00 0.00000000e+00]\n",
            " [0.00000000e+00 0.00000000e+00 0.00000000e+00 0.00000000e+00\n",
            "  0.00000000e+00 0.00000000e+00 0.00000000e+00 0.00000000e+00\n",
            "  2.51666506e-04 1.08161259e-01 8.31967306e-01 6.67845276e-01\n",
            "  3.88760168e-02 2.33588137e-05 0.00000000e+00 0.00000000e+00\n",
            "  0.00000000e+00 1.44288196e-06 6.64425913e-03 3.63715051e-01\n",
            "  9.27715803e-01 3.54315227e-01 5.67244308e-03 9.16215601e-08\n",
            "  0.00000000e+00 0.00000000e+00 0.00000000e+00 0.00000000e+00]\n",
            " [0.00000000e+00 0.00000000e+00 0.00000000e+00 0.00000000e+00\n",
            "  0.00000000e+00 0.00000000e+00 0.00000000e+00 0.00000000e+00\n",
            "  1.50715970e-05 3.10874545e-02 6.23977507e-01 8.59847339e-01\n",
            "  1.34474892e-01 3.84333193e-04 0.00000000e+00 0.00000000e+00\n",
            "  2.89331771e-09 4.16002491e-04 8.23375625e-02 7.18981180e-01\n",
            "  8.32401179e-01 1.21501565e-01 4.19402278e-04 0.00000000e+00\n",
            "  0.00000000e+00 0.00000000e+00 0.00000000e+00 0.00000000e+00]\n",
            " [0.00000000e+00 0.00000000e+00 0.00000000e+00 0.00000000e+00\n",
            "  0.00000000e+00 0.00000000e+00 0.00000000e+00 0.00000000e+00\n",
            "  5.81091452e-08 7.03051054e-03 4.12815186e-01 9.29984030e-01\n",
            "  3.10790802e-01 5.16300690e-03 2.04734233e-06 0.00000000e+00\n",
            "  1.12960552e-05 1.41491632e-02 4.23649792e-01 9.29530064e-01\n",
            "  4.59616903e-01 1.82104248e-02 1.15164684e-05 0.00000000e+00\n",
            "  0.00000000e+00 0.00000000e+00 0.00000000e+00 0.00000000e+00]\n",
            " [0.00000000e+00 0.00000000e+00 0.00000000e+00 0.00000000e+00\n",
            "  0.00000000e+00 0.00000000e+00 0.00000000e+00 0.00000000e+00\n",
            "  0.00000000e+00 1.15961245e-03 1.74532869e-01 8.53836719e-01\n",
            "  7.27487021e-01 9.79519725e-02 6.52325283e-04 1.00698603e-05\n",
            "  3.93512613e-03 1.71584037e-01 8.19276243e-01 7.61772383e-01\n",
            "  9.52261255e-02 4.96121316e-04 1.05124120e-08 0.00000000e+00\n",
            "  0.00000000e+00 0.00000000e+00 0.00000000e+00 0.00000000e+00]\n",
            " [0.00000000e+00 0.00000000e+00 0.00000000e+00 0.00000000e+00\n",
            "  0.00000000e+00 0.00000000e+00 0.00000000e+00 0.00000000e+00\n",
            "  0.00000000e+00 2.21034933e-05 1.88580668e-02 4.35739442e-01\n",
            "  9.31166472e-01 5.01531389e-01 5.33692069e-02 2.47604990e-02\n",
            "  1.64245983e-01 7.21704786e-01 9.05011726e-01 3.39057724e-01\n",
            "  8.62762932e-03 1.75025405e-06 0.00000000e+00 0.00000000e+00\n",
            "  0.00000000e+00 0.00000000e+00 0.00000000e+00 0.00000000e+00]\n",
            " [0.00000000e+00 0.00000000e+00 0.00000000e+00 0.00000000e+00\n",
            "  0.00000000e+00 0.00000000e+00 0.00000000e+00 0.00000000e+00\n",
            "  0.00000000e+00 1.39448306e-08 3.94456142e-04 7.64187677e-02\n",
            "  6.74526404e-01 9.25388022e-01 6.63820162e-01 6.09387493e-01\n",
            "  8.34870486e-01 9.13806815e-01 4.33088158e-01 3.12832782e-02\n",
            "  1.34191553e-04 0.00000000e+00 0.00000000e+00 0.00000000e+00\n",
            "  0.00000000e+00 0.00000000e+00 0.00000000e+00 0.00000000e+00]\n",
            " [0.00000000e+00 0.00000000e+00 0.00000000e+00 0.00000000e+00\n",
            "  0.00000000e+00 0.00000000e+00 0.00000000e+00 0.00000000e+00\n",
            "  0.00000000e+00 0.00000000e+00 1.28597905e-06 2.90011427e-03\n",
            "  1.26734131e-01 6.08221504e-01 8.66808120e-01 8.66289166e-01\n",
            "  6.98351365e-01 3.26916771e-01 3.98018500e-02 3.25425647e-04\n",
            "  7.30552232e-08 0.00000000e+00 0.00000000e+00 0.00000000e+00\n",
            "  0.00000000e+00 0.00000000e+00 0.00000000e+00 0.00000000e+00]\n",
            " [0.00000000e+00 0.00000000e+00 0.00000000e+00 0.00000000e+00\n",
            "  0.00000000e+00 0.00000000e+00 0.00000000e+00 0.00000000e+00\n",
            "  0.00000000e+00 0.00000000e+00 0.00000000e+00 5.16317563e-06\n",
            "  1.74675231e-03 4.44094462e-02 1.31330321e-01 1.30548915e-01\n",
            "  5.21566559e-02 6.56016447e-03 1.63113663e-04 2.35312999e-07\n",
            "  0.00000000e+00 0.00000000e+00 0.00000000e+00 0.00000000e+00\n",
            "  0.00000000e+00 0.00000000e+00 0.00000000e+00 0.00000000e+00]\n",
            " [0.00000000e+00 0.00000000e+00 0.00000000e+00 0.00000000e+00\n",
            "  0.00000000e+00 0.00000000e+00 0.00000000e+00 0.00000000e+00\n",
            "  0.00000000e+00 0.00000000e+00 0.00000000e+00 0.00000000e+00\n",
            "  3.59129603e-07 5.54482068e-05 3.27387635e-04 3.21954967e-04\n",
            "  5.63707165e-05 5.94322688e-07 0.00000000e+00 0.00000000e+00\n",
            "  0.00000000e+00 0.00000000e+00 0.00000000e+00 0.00000000e+00\n",
            "  0.00000000e+00 0.00000000e+00 0.00000000e+00 0.00000000e+00]\n",
            " [0.00000000e+00 0.00000000e+00 0.00000000e+00 0.00000000e+00\n",
            "  0.00000000e+00 0.00000000e+00 0.00000000e+00 0.00000000e+00\n",
            "  0.00000000e+00 0.00000000e+00 0.00000000e+00 0.00000000e+00\n",
            "  0.00000000e+00 0.00000000e+00 0.00000000e+00 0.00000000e+00\n",
            "  0.00000000e+00 0.00000000e+00 0.00000000e+00 0.00000000e+00\n",
            "  0.00000000e+00 0.00000000e+00 0.00000000e+00 0.00000000e+00\n",
            "  0.00000000e+00 0.00000000e+00 0.00000000e+00 0.00000000e+00]\n",
            " [0.00000000e+00 0.00000000e+00 0.00000000e+00 0.00000000e+00\n",
            "  0.00000000e+00 0.00000000e+00 0.00000000e+00 0.00000000e+00\n",
            "  0.00000000e+00 0.00000000e+00 0.00000000e+00 0.00000000e+00\n",
            "  0.00000000e+00 0.00000000e+00 0.00000000e+00 0.00000000e+00\n",
            "  0.00000000e+00 0.00000000e+00 0.00000000e+00 0.00000000e+00\n",
            "  0.00000000e+00 0.00000000e+00 0.00000000e+00 0.00000000e+00\n",
            "  0.00000000e+00 0.00000000e+00 0.00000000e+00 0.00000000e+00]]\n"
          ]
        }
      ],
      "source": [
        "print (X[0]) # Antes de la normalizacion"
      ]
    },
    {
      "cell_type": "markdown",
      "id": "915973c1",
      "metadata": {
        "id": "915973c1"
      },
      "source": [
        "## Normalizando los datos | Paso de Pre-Procesamiento"
      ]
    },
    {
      "cell_type": "code",
      "execution_count": null,
      "id": "e917e80c",
      "metadata": {
        "scrolled": true,
        "id": "e917e80c"
      },
      "outputs": [],
      "source": [
        "## Se puede notar que la imagen gris y todos los valores varían de 0 a 255\n",
        "X = X.astype('float32') / 255"
      ]
    },
    {
      "cell_type": "code",
      "execution_count": null,
      "id": "cd4ebf84",
      "metadata": {
        "id": "cd4ebf84",
        "outputId": "e67b6cb3-089d-42e2-b48d-a17edcd882db",
        "colab": {
          "base_uri": "https://localhost:8080/"
        }
      },
      "outputs": [
        {
          "output_type": "stream",
          "name": "stdout",
          "text": [
            "[[0.00000000e+00 0.00000000e+00 0.00000000e+00 0.00000000e+00\n",
            "  0.00000000e+00 0.00000000e+00 0.00000000e+00 0.00000000e+00\n",
            "  0.00000000e+00 0.00000000e+00 0.00000000e+00 0.00000000e+00\n",
            "  0.00000000e+00 7.99835753e-11 5.18986631e-09 1.23602266e-08\n",
            "  6.30755226e-09 1.44232820e-10 0.00000000e+00 0.00000000e+00\n",
            "  0.00000000e+00 0.00000000e+00 0.00000000e+00 0.00000000e+00\n",
            "  0.00000000e+00 0.00000000e+00 0.00000000e+00 0.00000000e+00]\n",
            " [0.00000000e+00 0.00000000e+00 0.00000000e+00 0.00000000e+00\n",
            "  0.00000000e+00 0.00000000e+00 0.00000000e+00 0.00000000e+00\n",
            "  0.00000000e+00 0.00000000e+00 7.04868386e-11 8.12169603e-08\n",
            "  2.87613238e-06 2.00840968e-05 9.43975756e-05 1.43685407e-04\n",
            "  1.04501523e-04 3.32690543e-05 7.33849220e-06 2.56287564e-07\n",
            "  4.95421149e-10 0.00000000e+00 0.00000000e+00 0.00000000e+00\n",
            "  0.00000000e+00 0.00000000e+00 0.00000000e+00 0.00000000e+00]\n",
            " [0.00000000e+00 0.00000000e+00 0.00000000e+00 0.00000000e+00\n",
            "  0.00000000e+00 0.00000000e+00 0.00000000e+00 0.00000000e+00\n",
            "  0.00000000e+00 1.40334500e-12 4.28746830e-07 6.61731319e-05\n",
            "  6.03281893e-04 1.42664288e-03 2.35904474e-03 2.70414189e-03\n",
            "  2.44938559e-03 1.75347039e-03 8.88631446e-04 1.39574709e-04\n",
            "  3.41491545e-06 8.01899258e-09 0.00000000e+00 0.00000000e+00\n",
            "  0.00000000e+00 0.00000000e+00 0.00000000e+00 0.00000000e+00]\n",
            " [0.00000000e+00 0.00000000e+00 0.00000000e+00 0.00000000e+00\n",
            "  0.00000000e+00 0.00000000e+00 0.00000000e+00 0.00000000e+00\n",
            "  0.00000000e+00 4.08427425e-09 3.18287675e-05 1.23109715e-03\n",
            "  3.31814401e-03 3.65596334e-03 3.38141853e-03 3.15303449e-03\n",
            "  3.34276608e-03 3.62680526e-03 3.52530181e-03 2.08996818e-03\n",
            "  3.77941848e-04 1.11610407e-05 2.07566160e-08 0.00000000e+00\n",
            "  0.00000000e+00 0.00000000e+00 0.00000000e+00 0.00000000e+00]\n",
            " [0.00000000e+00 0.00000000e+00 0.00000000e+00 0.00000000e+00\n",
            "  0.00000000e+00 0.00000000e+00 0.00000000e+00 0.00000000e+00\n",
            "  0.00000000e+00 2.50526227e-07 2.23621028e-04 2.83662323e-03\n",
            "  3.57397669e-03 1.54365157e-03 5.43799601e-04 3.10146308e-04\n",
            "  4.75437962e-04 1.10306148e-03 2.66879983e-03 3.66434106e-03\n",
            "  2.66720983e-03 4.81677649e-04 4.83059830e-06 2.40314629e-10\n",
            "  0.00000000e+00 0.00000000e+00 0.00000000e+00 0.00000000e+00]\n",
            " [0.00000000e+00 0.00000000e+00 0.00000000e+00 0.00000000e+00\n",
            "  0.00000000e+00 0.00000000e+00 0.00000000e+00 0.00000000e+00\n",
            "  0.00000000e+00 4.17953061e-06 7.33097258e-04 3.52684897e-03\n",
            "  2.84215086e-03 2.05697797e-04 2.02689102e-06 3.41635285e-07\n",
            "  1.20862467e-06 1.55705347e-05 2.99346313e-04 1.95846171e-03\n",
            "  3.65268392e-03 2.18279939e-03 1.17832169e-04 1.00495505e-07\n",
            "  0.00000000e+00 0.00000000e+00 0.00000000e+00 0.00000000e+00]\n",
            " [0.00000000e+00 0.00000000e+00 0.00000000e+00 0.00000000e+00\n",
            "  0.00000000e+00 0.00000000e+00 0.00000000e+00 0.00000000e+00\n",
            "  7.69228403e-10 3.51768285e-05 1.68957247e-03 3.82247870e-03\n",
            "  2.66389456e-03 1.30050947e-04 4.14027646e-10 0.00000000e+00\n",
            "  0.00000000e+00 3.42222362e-09 2.24343353e-06 2.35989530e-04\n",
            "  2.60176975e-03 3.40714818e-03 6.23539963e-04 3.03660477e-06\n",
            "  0.00000000e+00 0.00000000e+00 0.00000000e+00 0.00000000e+00]\n",
            " [0.00000000e+00 0.00000000e+00 0.00000000e+00 0.00000000e+00\n",
            "  0.00000000e+00 0.00000000e+00 0.00000000e+00 0.00000000e+00\n",
            "  7.19737301e-08 1.53897738e-04 2.65272870e-03 3.89476423e-03\n",
            "  2.65297852e-03 1.28212487e-04 4.70215755e-10 0.00000000e+00\n",
            "  0.00000000e+00 0.00000000e+00 1.26008237e-09 1.70325329e-05\n",
            "  1.28094794e-03 3.65942088e-03 1.41498761e-03 1.80115985e-05\n",
            "  0.00000000e+00 0.00000000e+00 0.00000000e+00 0.00000000e+00]\n",
            " [0.00000000e+00 0.00000000e+00 0.00000000e+00 0.00000000e+00\n",
            "  0.00000000e+00 0.00000000e+00 0.00000000e+00 0.00000000e+00\n",
            "  3.70289484e-07 3.12040676e-04 3.15437419e-03 3.90948402e-03\n",
            "  2.83062877e-03 1.81583266e-04 7.70694797e-08 0.00000000e+00\n",
            "  0.00000000e+00 0.00000000e+00 0.00000000e+00 3.08229096e-06\n",
            "  7.35885755e-04 3.55505943e-03 1.93952315e-03 4.37091621e-05\n",
            "  0.00000000e+00 0.00000000e+00 0.00000000e+00 0.00000000e+00]\n",
            " [0.00000000e+00 0.00000000e+00 0.00000000e+00 0.00000000e+00\n",
            "  0.00000000e+00 0.00000000e+00 0.00000000e+00 0.00000000e+00\n",
            "  1.99822102e-06 5.96124970e-04 3.47621925e-03 3.80009925e-03\n",
            "  3.11436644e-03 3.27843882e-04 4.19836198e-07 0.00000000e+00\n",
            "  0.00000000e+00 0.00000000e+00 0.00000000e+00 9.35132448e-07\n",
            "  4.57273942e-04 3.36676324e-03 2.34213355e-03 8.30750432e-05\n",
            "  0.00000000e+00 0.00000000e+00 0.00000000e+00 0.00000000e+00]\n",
            " [0.00000000e+00 0.00000000e+00 0.00000000e+00 0.00000000e+00\n",
            "  0.00000000e+00 0.00000000e+00 0.00000000e+00 0.00000000e+00\n",
            "  1.14665590e-05 1.19202584e-03 3.65491607e-03 2.08661938e-03\n",
            "  1.07420573e-03 7.78585236e-05 6.60691128e-08 0.00000000e+00\n",
            "  0.00000000e+00 0.00000000e+00 0.00000000e+00 6.44290537e-07\n",
            "  4.01302619e-04 3.30956094e-03 2.40347185e-03 9.01108288e-05\n",
            "  0.00000000e+00 0.00000000e+00 0.00000000e+00 0.00000000e+00]\n",
            " [0.00000000e+00 0.00000000e+00 0.00000000e+00 0.00000000e+00\n",
            "  0.00000000e+00 0.00000000e+00 0.00000000e+00 0.00000000e+00\n",
            "  2.63735219e-05 1.66884076e-03 3.60780046e-03 9.21422150e-04\n",
            "  1.74102115e-05 5.23052506e-07 1.50240487e-10 0.00000000e+00\n",
            "  0.00000000e+00 0.00000000e+00 0.00000000e+00 1.21934227e-06\n",
            "  5.03685209e-04 3.40786157e-03 2.27159681e-03 7.46213846e-05\n",
            "  0.00000000e+00 0.00000000e+00 0.00000000e+00 0.00000000e+00]\n",
            " [0.00000000e+00 0.00000000e+00 0.00000000e+00 0.00000000e+00\n",
            "  0.00000000e+00 0.00000000e+00 0.00000000e+00 0.00000000e+00\n",
            "  2.71300451e-05 1.68888539e-03 3.57196573e-03 8.17273045e-04\n",
            "  3.71427450e-06 0.00000000e+00 0.00000000e+00 0.00000000e+00\n",
            "  0.00000000e+00 0.00000000e+00 0.00000000e+00 5.17862100e-06\n",
            "  9.04681860e-04 3.61344824e-03 1.75666169e-03 3.31721676e-05\n",
            "  0.00000000e+00 0.00000000e+00 0.00000000e+00 0.00000000e+00]\n",
            " [0.00000000e+00 0.00000000e+00 0.00000000e+00 0.00000000e+00\n",
            "  0.00000000e+00 0.00000000e+00 0.00000000e+00 0.00000000e+00\n",
            "  2.74684844e-05 1.69661059e-03 3.57536715e-03 8.22224945e-04\n",
            "  3.76300727e-06 0.00000000e+00 0.00000000e+00 0.00000000e+00\n",
            "  0.00000000e+00 0.00000000e+00 2.54815804e-11 1.56452807e-05\n",
            "  1.37563131e-03 3.65252234e-03 1.17247377e-03 1.02201629e-05\n",
            "  0.00000000e+00 0.00000000e+00 0.00000000e+00 0.00000000e+00]\n",
            " [0.00000000e+00 0.00000000e+00 0.00000000e+00 0.00000000e+00\n",
            "  0.00000000e+00 0.00000000e+00 0.00000000e+00 0.00000000e+00\n",
            "  2.62360318e-05 1.66611990e-03 3.59075866e-03 8.69983982e-04\n",
            "  4.42957162e-06 0.00000000e+00 0.00000000e+00 0.00000000e+00\n",
            "  0.00000000e+00 0.00000000e+00 1.25059048e-08 7.20428361e-05\n",
            "  2.11845990e-03 3.53554054e-03 7.23791192e-04 3.11959161e-06\n",
            "  0.00000000e+00 0.00000000e+00 0.00000000e+00 0.00000000e+00]\n",
            " [0.00000000e+00 0.00000000e+00 0.00000000e+00 0.00000000e+00\n",
            "  0.00000000e+00 0.00000000e+00 0.00000000e+00 0.00000000e+00\n",
            "  1.39037229e-05 1.32718752e-03 3.63534782e-03 1.17417658e-03\n",
            "  9.91838078e-06 1.67865159e-14 0.00000000e+00 0.00000000e+00\n",
            "  0.00000000e+00 0.00000000e+00 1.14645950e-07 1.98883950e-04\n",
            "  2.88404617e-03 3.05593573e-03 2.84427195e-04 4.09177972e-07\n",
            "  0.00000000e+00 0.00000000e+00 0.00000000e+00 0.00000000e+00]\n",
            " [0.00000000e+00 0.00000000e+00 0.00000000e+00 0.00000000e+00\n",
            "  0.00000000e+00 0.00000000e+00 0.00000000e+00 0.00000000e+00\n",
            "  6.81976462e-06 9.81101883e-04 3.60466004e-03 1.70605502e-03\n",
            "  3.43326064e-05 4.00018574e-10 0.00000000e+00 0.00000000e+00\n",
            "  0.00000000e+00 0.00000000e+00 1.81059625e-06 4.93540254e-04\n",
            "  3.31887114e-03 2.50901957e-03 1.22816477e-04 3.57301069e-08\n",
            "  0.00000000e+00 0.00000000e+00 0.00000000e+00 0.00000000e+00]\n",
            " [0.00000000e+00 0.00000000e+00 0.00000000e+00 0.00000000e+00\n",
            "  0.00000000e+00 0.00000000e+00 0.00000000e+00 0.00000000e+00\n",
            "  9.86927489e-07 4.24161786e-04 3.26261693e-03 2.61900108e-03\n",
            "  1.52454959e-04 9.16031908e-08 0.00000000e+00 0.00000000e+00\n",
            "  0.00000000e+00 5.65836045e-09 2.60559191e-05 1.42633356e-03\n",
            "  3.63810104e-03 1.38947146e-03 2.22448762e-05 3.59300228e-10\n",
            "  0.00000000e+00 0.00000000e+00 0.00000000e+00 0.00000000e+00]\n",
            " [0.00000000e+00 0.00000000e+00 0.00000000e+00 0.00000000e+00\n",
            "  0.00000000e+00 0.00000000e+00 0.00000000e+00 0.00000000e+00\n",
            "  5.91043019e-08 1.21911587e-04 2.44697044e-03 3.37195047e-03\n",
            "  5.27352502e-04 1.50718904e-06 0.00000000e+00 0.00000000e+00\n",
            "  1.13463440e-11 1.63138236e-06 3.22892418e-04 2.81953416e-03\n",
            "  3.26431822e-03 4.76476736e-04 1.64471487e-06 0.00000000e+00\n",
            "  0.00000000e+00 0.00000000e+00 0.00000000e+00 0.00000000e+00]\n",
            " [0.00000000e+00 0.00000000e+00 0.00000000e+00 0.00000000e+00\n",
            "  0.00000000e+00 0.00000000e+00 0.00000000e+00 0.00000000e+00\n",
            "  2.27878993e-10 2.75706279e-05 1.61888311e-03 3.64699611e-03\n",
            "  1.21878751e-03 2.02470856e-05 8.02879363e-09 0.00000000e+00\n",
            "  4.42982540e-08 5.54869148e-05 1.66137167e-03 3.64521611e-03\n",
            "  1.80241920e-03 7.14134294e-05 4.51626221e-08 0.00000000e+00\n",
            "  0.00000000e+00 0.00000000e+00 0.00000000e+00 0.00000000e+00]\n",
            " [0.00000000e+00 0.00000000e+00 0.00000000e+00 0.00000000e+00\n",
            "  0.00000000e+00 0.00000000e+00 0.00000000e+00 0.00000000e+00\n",
            "  0.00000000e+00 4.54749988e-06 6.84442639e-04 3.34837916e-03\n",
            "  2.85289041e-03 3.84125364e-04 2.55813825e-06 3.94896489e-08\n",
            "  1.54318677e-05 6.72878581e-04 3.21284798e-03 2.98734265e-03\n",
            "  3.73435789e-04 1.94557379e-06 4.12251448e-11 0.00000000e+00\n",
            "  0.00000000e+00 0.00000000e+00 0.00000000e+00 0.00000000e+00]\n",
            " [0.00000000e+00 0.00000000e+00 0.00000000e+00 0.00000000e+00\n",
            "  0.00000000e+00 0.00000000e+00 0.00000000e+00 0.00000000e+00\n",
            "  0.00000000e+00 8.66803660e-08 7.39532043e-05 1.70878205e-03\n",
            "  3.65163316e-03 1.96678960e-03 2.09291000e-04 9.70999972e-05\n",
            "  6.44101878e-04 2.83021480e-03 3.54906544e-03 1.32963806e-03\n",
            "  3.38338396e-05 6.86374113e-09 0.00000000e+00 0.00000000e+00\n",
            "  0.00000000e+00 0.00000000e+00 0.00000000e+00 0.00000000e+00]\n",
            " [0.00000000e+00 0.00000000e+00 0.00000000e+00 0.00000000e+00\n",
            "  0.00000000e+00 0.00000000e+00 0.00000000e+00 0.00000000e+00\n",
            "  0.00000000e+00 5.46856137e-11 1.54688689e-06 2.99681444e-04\n",
            "  2.64520152e-03 3.62897268e-03 2.60321633e-03 2.38975487e-03\n",
            "  3.27400188e-03 3.58355604e-03 1.69838488e-03 1.22679528e-04\n",
            "  5.26241365e-07 0.00000000e+00 0.00000000e+00 0.00000000e+00\n",
            "  0.00000000e+00 0.00000000e+00 0.00000000e+00 0.00000000e+00]\n",
            " [0.00000000e+00 0.00000000e+00 0.00000000e+00 0.00000000e+00\n",
            "  0.00000000e+00 0.00000000e+00 0.00000000e+00 0.00000000e+00\n",
            "  0.00000000e+00 0.00000000e+00 5.04305486e-09 1.13729975e-05\n",
            "  4.96996625e-04 2.38518254e-03 3.39924754e-03 3.39721236e-03\n",
            "  2.73863296e-03 1.28202664e-03 1.56085691e-04 1.27617898e-06\n",
            "  2.86491081e-10 0.00000000e+00 0.00000000e+00 0.00000000e+00\n",
            "  0.00000000e+00 0.00000000e+00 0.00000000e+00 0.00000000e+00]\n",
            " [0.00000000e+00 0.00000000e+00 0.00000000e+00 0.00000000e+00\n",
            "  0.00000000e+00 0.00000000e+00 0.00000000e+00 0.00000000e+00\n",
            "  0.00000000e+00 0.00000000e+00 0.00000000e+00 2.02477466e-08\n",
            "  6.85000896e-06 1.74154688e-04 5.15020860e-04 5.11956518e-04\n",
            "  2.04535914e-04 2.57261345e-05 6.39661437e-07 9.22796062e-10\n",
            "  0.00000000e+00 0.00000000e+00 0.00000000e+00 0.00000000e+00\n",
            "  0.00000000e+00 0.00000000e+00 0.00000000e+00 0.00000000e+00]\n",
            " [0.00000000e+00 0.00000000e+00 0.00000000e+00 0.00000000e+00\n",
            "  0.00000000e+00 0.00000000e+00 0.00000000e+00 0.00000000e+00\n",
            "  0.00000000e+00 0.00000000e+00 0.00000000e+00 0.00000000e+00\n",
            "  1.40835144e-09 2.17443954e-07 1.28387308e-06 1.26256850e-06\n",
            "  2.21061640e-07 2.33067721e-09 0.00000000e+00 0.00000000e+00\n",
            "  0.00000000e+00 0.00000000e+00 0.00000000e+00 0.00000000e+00\n",
            "  0.00000000e+00 0.00000000e+00 0.00000000e+00 0.00000000e+00]\n",
            " [0.00000000e+00 0.00000000e+00 0.00000000e+00 0.00000000e+00\n",
            "  0.00000000e+00 0.00000000e+00 0.00000000e+00 0.00000000e+00\n",
            "  0.00000000e+00 0.00000000e+00 0.00000000e+00 0.00000000e+00\n",
            "  0.00000000e+00 0.00000000e+00 0.00000000e+00 0.00000000e+00\n",
            "  0.00000000e+00 0.00000000e+00 0.00000000e+00 0.00000000e+00\n",
            "  0.00000000e+00 0.00000000e+00 0.00000000e+00 0.00000000e+00\n",
            "  0.00000000e+00 0.00000000e+00 0.00000000e+00 0.00000000e+00]\n",
            " [0.00000000e+00 0.00000000e+00 0.00000000e+00 0.00000000e+00\n",
            "  0.00000000e+00 0.00000000e+00 0.00000000e+00 0.00000000e+00\n",
            "  0.00000000e+00 0.00000000e+00 0.00000000e+00 0.00000000e+00\n",
            "  0.00000000e+00 0.00000000e+00 0.00000000e+00 0.00000000e+00\n",
            "  0.00000000e+00 0.00000000e+00 0.00000000e+00 0.00000000e+00\n",
            "  0.00000000e+00 0.00000000e+00 0.00000000e+00 0.00000000e+00\n",
            "  0.00000000e+00 0.00000000e+00 0.00000000e+00 0.00000000e+00]]\n"
          ]
        }
      ],
      "source": [
        "print (X[0]) ## Se puede ver que todos los valores ahora estan normalizados"
      ]
    },
    {
      "cell_type": "markdown",
      "id": "cd2e8f7a",
      "metadata": {
        "id": "cd2e8f7a"
      },
      "source": [
        "## Redimensionamiento de la imagen para hacerla apta y aplicar la operación de Convolución"
      ]
    },
    {
      "cell_type": "code",
      "execution_count": null,
      "id": "d9daed26",
      "metadata": {
        "id": "d9daed26",
        "outputId": "a46d5f6f-4f36-4622-a45b-286f51c01b80",
        "colab": {
          "base_uri": "https://localhost:8080/"
        }
      },
      "outputs": [
        {
          "output_type": "execute_result",
          "data": {
            "text/plain": [
              "(113, 28, 28)"
            ]
          },
          "metadata": {},
          "execution_count": 12
        }
      ],
      "source": [
        "import numpy as np # pyp install numpy\n",
        "X = np.array(X)\n",
        "X.shape"
      ]
    },
    {
      "cell_type": "code",
      "execution_count": null,
      "id": "5e67ed7e",
      "metadata": {
        "id": "5e67ed7e",
        "outputId": "5c60e0fb-f4a0-47b1-dd5d-7c7a80052bc1",
        "colab": {
          "base_uri": "https://localhost:8080/"
        }
      },
      "outputs": [
        {
          "output_type": "stream",
          "name": "stdout",
          "text": [
            "Dimension de las muestras:  (113, 28, 28, 1)\n"
          ]
        }
      ],
      "source": [
        "TAM_IMG = 28\n",
        "X = np.array(X).reshape(-1, TAM_IMG, TAM_IMG, 1) # Incrementando 1 dimension para las operaciones kernel(Filtro)\n",
        "print(\"Dimension de las muestras: \", X.shape)"
      ]
    },
    {
      "cell_type": "markdown",
      "id": "cd62056e",
      "metadata": {
        "id": "cd62056e"
      },
      "source": [
        "## Mostramos algunas imagenes del set de imagenes"
      ]
    },
    {
      "cell_type": "code",
      "execution_count": null,
      "id": "20274e37",
      "metadata": {
        "id": "20274e37",
        "outputId": "4bb33ae7-7827-4195-9073-16398c365039",
        "colab": {
          "base_uri": "https://localhost:8080/",
          "height": 381
        }
      },
      "outputs": [
        {
          "output_type": "display_data",
          "data": {
            "text/plain": [
              "<Figure size 1200x400 with 16 Axes>"
            ],
            "image/png": "[encoded data removed]"
          },
          "metadata": {}
        }
      ],
      "source": [
        "filas = 2\n",
        "columnas = 8\n",
        "num = filas * columnas\n",
        "imagenes = X[0:num]\n",
        "etiquetas = Y[0:num]\n",
        "fig, axes = plt.subplots(filas, columnas, figsize = (1.5 * columnas, 2 * filas))\n",
        "for i in range(num):\n",
        "     ax = axes[i // columnas, i % columnas]\n",
        "     ax.imshow(imagenes[i].reshape(28,28), cmap='gray_r')\n",
        "     ax.set_title('Label: {}'.format(np.argmax(etiquetas[i])))\n",
        "plt.tight_layout()\n",
        "plt.show()"
      ]
    },
    {
      "cell_type": "markdown",
      "id": "c855b735",
      "metadata": {
        "id": "c855b735"
      },
      "source": [
        "## Creando una Red Neuronal Profunda (Deep Neural Network)"
      ]
    },
    {
      "cell_type": "code",
      "source": [
        "x_train, x_test, y_train, y_test = train_test_split(X, Y, test_size=0.2, random_state=17, stratify=Y)"
      ],
      "metadata": {
        "id": "uToZ1Mqu04op"
      },
      "id": "uToZ1Mqu04op",
      "execution_count": null,
      "outputs": []
    },
    {
      "cell_type": "code",
      "execution_count": null,
      "id": "ce4c3131",
      "metadata": {
        "id": "ce4c3131"
      },
      "outputs": [],
      "source": [
        "from tensorflow.keras.models import Sequential\n",
        "from tensorflow.keras.layers import Dense, Dropout, Activation, Flatten, Conv2D, MaxPooling2D"
      ]
    },
    {
      "cell_type": "code",
      "execution_count": null,
      "id": "22d56df9",
      "metadata": {
        "id": "22d56df9"
      },
      "outputs": [],
      "source": [
        "### Creando una nueva red neuronal\n",
        "modelo = tf.keras.models.Sequential([\n",
        "    tf.keras.layers.Conv2D(32, (3,3), activation='relu', input_shape=(28, 28, 1)),\n",
        "    tf.keras.layers.MaxPooling2D(2,2),\n",
        "\n",
        "    tf.keras.layers.Conv2D(64, (3,3), activation='relu'),\n",
        "    tf.keras.layers.MaxPooling2D(2,2),\n",
        "\n",
        "    tf.keras.layers.Dropout(0.5),\n",
        "    tf.keras.layers.Flatten(),\n",
        "    tf.keras.layers.Dense(100, activation='relu'),\n",
        "    tf.keras.layers.Dense(10, activation=\"softmax\")\n",
        "])\n",
        "\n",
        "#Compilación\n",
        "modelo.compile(optimizer='adam',\n",
        "              loss='categorical_crossentropy',\n",
        "              metrics=['accuracy'])"
      ]
    },
    {
      "cell_type": "markdown",
      "id": "312613a9",
      "metadata": {
        "id": "312613a9"
      },
      "source": [
        "## Vemos las caracteristias de nuestra Red Neuronal Convolucional"
      ]
    },
    {
      "cell_type": "code",
      "execution_count": null,
      "id": "c422074f",
      "metadata": {
        "id": "c422074f",
        "outputId": "804c840a-1261-4ddb-b557-1fadb378ced0",
        "colab": {
          "base_uri": "https://localhost:8080/"
        }
      },
      "outputs": [
        {
          "output_type": "stream",
          "name": "stdout",
          "text": [
            "Model: \"sequential\"\n",
            "_________________________________________________________________\n",
            " Layer (type)                Output Shape              Param #   \n",
            "=================================================================\n",
            " conv2d (Conv2D)             (None, 26, 26, 32)        320       \n",
            "                                                                 \n",
            " max_pooling2d (MaxPooling2  (None, 13, 13, 32)        0         \n",
            " D)                                                              \n",
            "                                                                 \n",
            " conv2d_1 (Conv2D)           (None, 11, 11, 64)        18496     \n",
            "                                                                 \n",
            " max_pooling2d_1 (MaxPoolin  (None, 5, 5, 64)          0         \n",
            " g2D)                                                            \n",
            "                                                                 \n",
            " dropout (Dropout)           (None, 5, 5, 64)          0         \n",
            "                                                                 \n",
            " flatten (Flatten)           (None, 1600)              0         \n",
            "                                                                 \n",
            " dense (Dense)               (None, 100)               160100    \n",
            "                                                                 \n",
            " dense_1 (Dense)             (None, 10)                1010      \n",
            "                                                                 \n",
            "=================================================================\n",
            "Total params: 179926 (702.84 KB)\n",
            "Trainable params: 179926 (702.84 KB)\n",
            "Non-trainable params: 0 (0.00 Byte)\n",
            "_________________________________________________________________\n"
          ]
        }
      ],
      "source": [
        "modelo.summary()"
      ]
    },
    {
      "cell_type": "markdown",
      "id": "0572b756",
      "metadata": {
        "id": "0572b756"
      },
      "source": [
        "## Entrenamos nuestro modelo con 20 etapas de procesamiento"
      ]
    },
    {
      "cell_type": "code",
      "execution_count": null,
      "id": "e77ef825",
      "metadata": {
        "id": "e77ef825",
        "outputId": "655f5e70-5307-406b-94b9-fa1186e8d23f",
        "colab": {
          "base_uri": "https://localhost:8080/"
        }
      },
      "outputs": [
        {
          "output_type": "stream",
          "name": "stdout",
          "text": [
            "Entrenando modelo...\n",
            "Epoch 1/120\n",
            "9/9 [==============================] - 2s 50ms/step - loss: 2.3027 - accuracy: 0.0889 - val_loss: 2.2989 - val_accuracy: 0.1739\n",
            "Epoch 2/120\n",
            "9/9 [==============================] - 0s 19ms/step - loss: 2.2987 - accuracy: 0.1000 - val_loss: 2.2926 - val_accuracy: 0.1739\n",
            "Epoch 3/120\n",
            "9/9 [==============================] - 0s 16ms/step - loss: 2.2916 - accuracy: 0.1556 - val_loss: 2.2805 - val_accuracy: 0.1739\n",
            "Epoch 4/120\n",
            "9/9 [==============================] - 0s 17ms/step - loss: 2.2795 - accuracy: 0.1333 - val_loss: 2.2622 - val_accuracy: 0.1739\n",
            "Epoch 5/120\n",
            "9/9 [==============================] - 0s 16ms/step - loss: 2.2750 - accuracy: 0.1667 - val_loss: 2.2383 - val_accuracy: 0.1739\n",
            "Epoch 6/120\n",
            "9/9 [==============================] - 0s 15ms/step - loss: 2.2718 - accuracy: 0.1222 - val_loss: 2.2386 - val_accuracy: 0.1739\n",
            "Epoch 7/120\n",
            "9/9 [==============================] - 0s 20ms/step - loss: 2.2679 - accuracy: 0.1222 - val_loss: 2.2405 - val_accuracy: 0.1739\n",
            "Epoch 8/120\n",
            "9/9 [==============================] - 0s 16ms/step - loss: 2.2658 - accuracy: 0.1556 - val_loss: 2.2335 - val_accuracy: 0.1739\n",
            "Epoch 9/120\n",
            "9/9 [==============================] - 0s 16ms/step - loss: 2.2590 - accuracy: 0.1667 - val_loss: 2.2336 - val_accuracy: 0.1739\n",
            "Epoch 10/120\n",
            "9/9 [==============================] - 0s 16ms/step - loss: 2.2709 - accuracy: 0.1444 - val_loss: 2.2353 - val_accuracy: 0.1739\n",
            "Epoch 11/120\n",
            "9/9 [==============================] - 0s 16ms/step - loss: 2.2592 - accuracy: 0.1556 - val_loss: 2.2351 - val_accuracy: 0.1739\n",
            "Epoch 12/120\n",
            "9/9 [==============================] - 0s 17ms/step - loss: 2.2622 - accuracy: 0.1556 - val_loss: 2.2360 - val_accuracy: 0.1739\n",
            "Epoch 13/120\n",
            "9/9 [==============================] - 0s 20ms/step - loss: 2.2611 - accuracy: 0.1556 - val_loss: 2.2330 - val_accuracy: 0.1739\n",
            "Epoch 14/120\n",
            "9/9 [==============================] - 0s 26ms/step - loss: 2.2598 - accuracy: 0.1444 - val_loss: 2.2319 - val_accuracy: 0.1739\n",
            "Epoch 15/120\n",
            "9/9 [==============================] - 0s 26ms/step - loss: 2.2579 - accuracy: 0.1556 - val_loss: 2.2319 - val_accuracy: 0.1739\n",
            "Epoch 16/120\n",
            "9/9 [==============================] - 0s 26ms/step - loss: 2.2599 - accuracy: 0.1444 - val_loss: 2.2317 - val_accuracy: 0.1739\n",
            "Epoch 17/120\n",
            "9/9 [==============================] - 0s 26ms/step - loss: 2.2569 - accuracy: 0.1778 - val_loss: 2.2287 - val_accuracy: 0.1739\n",
            "Epoch 18/120\n",
            "9/9 [==============================] - 0s 26ms/step - loss: 2.2599 - accuracy: 0.1667 - val_loss: 2.2290 - val_accuracy: 0.1739\n",
            "Epoch 19/120\n",
            "9/9 [==============================] - 0s 25ms/step - loss: 2.2637 - accuracy: 0.1556 - val_loss: 2.2361 - val_accuracy: 0.1739\n",
            "Epoch 20/120\n",
            "9/9 [==============================] - 0s 24ms/step - loss: 2.2652 - accuracy: 0.1556 - val_loss: 2.2375 - val_accuracy: 0.1739\n",
            "Epoch 21/120\n",
            "9/9 [==============================] - 0s 26ms/step - loss: 2.2578 - accuracy: 0.1667 - val_loss: 2.2362 - val_accuracy: 0.1739\n",
            "Epoch 22/120\n",
            "9/9 [==============================] - 0s 30ms/step - loss: 2.2586 - accuracy: 0.1556 - val_loss: 2.2338 - val_accuracy: 0.1739\n",
            "Epoch 23/120\n",
            "9/9 [==============================] - 0s 25ms/step - loss: 2.2536 - accuracy: 0.1556 - val_loss: 2.2307 - val_accuracy: 0.1739\n",
            "Epoch 24/120\n",
            "9/9 [==============================] - 0s 25ms/step - loss: 2.2589 - accuracy: 0.1667 - val_loss: 2.2324 - val_accuracy: 0.1739\n",
            "Epoch 25/120\n",
            "9/9 [==============================] - 0s 25ms/step - loss: 2.2599 - accuracy: 0.1444 - val_loss: 2.2325 - val_accuracy: 0.1739\n",
            "Epoch 26/120\n",
            "9/9 [==============================] - 0s 26ms/step - loss: 2.2623 - accuracy: 0.1556 - val_loss: 2.2315 - val_accuracy: 0.1739\n",
            "Epoch 27/120\n",
            "9/9 [==============================] - 0s 25ms/step - loss: 2.2637 - accuracy: 0.1444 - val_loss: 2.2345 - val_accuracy: 0.1739\n",
            "Epoch 28/120\n",
            "9/9 [==============================] - 0s 26ms/step - loss: 2.2588 - accuracy: 0.1556 - val_loss: 2.2357 - val_accuracy: 0.1739\n",
            "Epoch 29/120\n",
            "9/9 [==============================] - 0s 26ms/step - loss: 2.2595 - accuracy: 0.1333 - val_loss: 2.2326 - val_accuracy: 0.1739\n",
            "Epoch 30/120\n",
            "9/9 [==============================] - 0s 16ms/step - loss: 2.2623 - accuracy: 0.1556 - val_loss: 2.2313 - val_accuracy: 0.1739\n",
            "Epoch 31/120\n",
            "9/9 [==============================] - 0s 17ms/step - loss: 2.2565 - accuracy: 0.1444 - val_loss: 2.2314 - val_accuracy: 0.1739\n",
            "Epoch 32/120\n",
            "9/9 [==============================] - 0s 16ms/step - loss: 2.2603 - accuracy: 0.1111 - val_loss: 2.2321 - val_accuracy: 0.1739\n",
            "Epoch 33/120\n",
            "9/9 [==============================] - 0s 17ms/step - loss: 2.2539 - accuracy: 0.1556 - val_loss: 2.2328 - val_accuracy: 0.1739\n",
            "Epoch 34/120\n",
            "9/9 [==============================] - 0s 17ms/step - loss: 2.2645 - accuracy: 0.1444 - val_loss: 2.2328 - val_accuracy: 0.1739\n",
            "Epoch 35/120\n",
            "9/9 [==============================] - 0s 16ms/step - loss: 2.2621 - accuracy: 0.1667 - val_loss: 2.2338 - val_accuracy: 0.1739\n",
            "Epoch 36/120\n",
            "9/9 [==============================] - 0s 17ms/step - loss: 2.2579 - accuracy: 0.1444 - val_loss: 2.2321 - val_accuracy: 0.1739\n",
            "Epoch 37/120\n",
            "9/9 [==============================] - 0s 19ms/step - loss: 2.2632 - accuracy: 0.1333 - val_loss: 2.2322 - val_accuracy: 0.1739\n",
            "Epoch 38/120\n",
            "9/9 [==============================] - 0s 16ms/step - loss: 2.2587 - accuracy: 0.1333 - val_loss: 2.2300 - val_accuracy: 0.1739\n",
            "Epoch 39/120\n",
            "9/9 [==============================] - 0s 15ms/step - loss: 2.2686 - accuracy: 0.1556 - val_loss: 2.2347 - val_accuracy: 0.1739\n",
            "Epoch 40/120\n",
            "9/9 [==============================] - 0s 15ms/step - loss: 2.2604 - accuracy: 0.1667 - val_loss: 2.2361 - val_accuracy: 0.1739\n",
            "Epoch 41/120\n",
            "9/9 [==============================] - 0s 19ms/step - loss: 2.2555 - accuracy: 0.1556 - val_loss: 2.2341 - val_accuracy: 0.1739\n",
            "Epoch 42/120\n",
            "9/9 [==============================] - 0s 16ms/step - loss: 2.2586 - accuracy: 0.1556 - val_loss: 2.2315 - val_accuracy: 0.1739\n",
            "Epoch 43/120\n",
            "9/9 [==============================] - 0s 17ms/step - loss: 2.2594 - accuracy: 0.1444 - val_loss: 2.2313 - val_accuracy: 0.1739\n",
            "Epoch 44/120\n",
            "9/9 [==============================] - 0s 19ms/step - loss: 2.2620 - accuracy: 0.1444 - val_loss: 2.2292 - val_accuracy: 0.1739\n",
            "Epoch 45/120\n",
            "9/9 [==============================] - 0s 15ms/step - loss: 2.2608 - accuracy: 0.1667 - val_loss: 2.2318 - val_accuracy: 0.1739\n",
            "Epoch 46/120\n",
            "9/9 [==============================] - 0s 16ms/step - loss: 2.2605 - accuracy: 0.1222 - val_loss: 2.2353 - val_accuracy: 0.1739\n",
            "Epoch 47/120\n",
            "9/9 [==============================] - 0s 16ms/step - loss: 2.2616 - accuracy: 0.1444 - val_loss: 2.2353 - val_accuracy: 0.1739\n",
            "Epoch 48/120\n",
            "9/9 [==============================] - 0s 18ms/step - loss: 2.2541 - accuracy: 0.1667 - val_loss: 2.2322 - val_accuracy: 0.1739\n",
            "Epoch 49/120\n",
            "9/9 [==============================] - 0s 17ms/step - loss: 2.2621 - accuracy: 0.1333 - val_loss: 2.2290 - val_accuracy: 0.1739\n",
            "Epoch 50/120\n",
            "9/9 [==============================] - 0s 18ms/step - loss: 2.2617 - accuracy: 0.1444 - val_loss: 2.2331 - val_accuracy: 0.1739\n",
            "Epoch 51/120\n",
            "9/9 [==============================] - 0s 16ms/step - loss: 2.2642 - accuracy: 0.1444 - val_loss: 2.2334 - val_accuracy: 0.1739\n",
            "Epoch 52/120\n",
            "9/9 [==============================] - 0s 16ms/step - loss: 2.2585 - accuracy: 0.1667 - val_loss: 2.2325 - val_accuracy: 0.1739\n",
            "Epoch 53/120\n",
            "9/9 [==============================] - 0s 16ms/step - loss: 2.2611 - accuracy: 0.1444 - val_loss: 2.2322 - val_accuracy: 0.1739\n",
            "Epoch 54/120\n",
            "9/9 [==============================] - 0s 17ms/step - loss: 2.2579 - accuracy: 0.1778 - val_loss: 2.2316 - val_accuracy: 0.1739\n",
            "Epoch 55/120\n",
            "9/9 [==============================] - 0s 17ms/step - loss: 2.2617 - accuracy: 0.1444 - val_loss: 2.2327 - val_accuracy: 0.1739\n",
            "Epoch 56/120\n",
            "9/9 [==============================] - 0s 16ms/step - loss: 2.2562 - accuracy: 0.1889 - val_loss: 2.2336 - val_accuracy: 0.1739\n",
            "Epoch 57/120\n",
            "9/9 [==============================] - 0s 21ms/step - loss: 2.2590 - accuracy: 0.1556 - val_loss: 2.2308 - val_accuracy: 0.1739\n",
            "Epoch 58/120\n",
            "9/9 [==============================] - 0s 21ms/step - loss: 2.2620 - accuracy: 0.1444 - val_loss: 2.2307 - val_accuracy: 0.1739\n",
            "Epoch 59/120\n",
            "9/9 [==============================] - 0s 17ms/step - loss: 2.2608 - accuracy: 0.1444 - val_loss: 2.2300 - val_accuracy: 0.1739\n",
            "Epoch 60/120\n",
            "9/9 [==============================] - 0s 15ms/step - loss: 2.2581 - accuracy: 0.1444 - val_loss: 2.2314 - val_accuracy: 0.1739\n",
            "Epoch 61/120\n",
            "9/9 [==============================] - 0s 18ms/step - loss: 2.2578 - accuracy: 0.1444 - val_loss: 2.2302 - val_accuracy: 0.1739\n",
            "Epoch 62/120\n",
            "9/9 [==============================] - 0s 17ms/step - loss: 2.2622 - accuracy: 0.1778 - val_loss: 2.2319 - val_accuracy: 0.1739\n",
            "Epoch 63/120\n",
            "9/9 [==============================] - 0s 19ms/step - loss: 2.2642 - accuracy: 0.1444 - val_loss: 2.2298 - val_accuracy: 0.1739\n",
            "Epoch 64/120\n",
            "9/9 [==============================] - 0s 16ms/step - loss: 2.2637 - accuracy: 0.1222 - val_loss: 2.2339 - val_accuracy: 0.1739\n",
            "Epoch 65/120\n",
            "9/9 [==============================] - 0s 15ms/step - loss: 2.2570 - accuracy: 0.1556 - val_loss: 2.2340 - val_accuracy: 0.1739\n",
            "Epoch 66/120\n",
            "9/9 [==============================] - 0s 17ms/step - loss: 2.2545 - accuracy: 0.1444 - val_loss: 2.2312 - val_accuracy: 0.1739\n",
            "Epoch 67/120\n",
            "9/9 [==============================] - 0s 18ms/step - loss: 2.2654 - accuracy: 0.1556 - val_loss: 2.2305 - val_accuracy: 0.1739\n",
            "Epoch 68/120\n",
            "9/9 [==============================] - 0s 16ms/step - loss: 2.2620 - accuracy: 0.1444 - val_loss: 2.2285 - val_accuracy: 0.1739\n",
            "Epoch 69/120\n",
            "9/9 [==============================] - 0s 17ms/step - loss: 2.2587 - accuracy: 0.1556 - val_loss: 2.2330 - val_accuracy: 0.1739\n",
            "Epoch 70/120\n",
            "9/9 [==============================] - 0s 16ms/step - loss: 2.2602 - accuracy: 0.1556 - val_loss: 2.2315 - val_accuracy: 0.1739\n",
            "Epoch 71/120\n",
            "9/9 [==============================] - 0s 15ms/step - loss: 2.2528 - accuracy: 0.1667 - val_loss: 2.2315 - val_accuracy: 0.1739\n",
            "Epoch 72/120\n",
            "9/9 [==============================] - 0s 17ms/step - loss: 2.2637 - accuracy: 0.1444 - val_loss: 2.2305 - val_accuracy: 0.1739\n",
            "Epoch 73/120\n",
            "9/9 [==============================] - 0s 16ms/step - loss: 2.2612 - accuracy: 0.1556 - val_loss: 2.2296 - val_accuracy: 0.1739\n",
            "Epoch 74/120\n",
            "9/9 [==============================] - 0s 17ms/step - loss: 2.2609 - accuracy: 0.1556 - val_loss: 2.2311 - val_accuracy: 0.1739\n",
            "Epoch 75/120\n",
            "9/9 [==============================] - 0s 17ms/step - loss: 2.2602 - accuracy: 0.1556 - val_loss: 2.2314 - val_accuracy: 0.1739\n",
            "Epoch 76/120\n",
            "9/9 [==============================] - 0s 21ms/step - loss: 2.2536 - accuracy: 0.1556 - val_loss: 2.2306 - val_accuracy: 0.1739\n",
            "Epoch 77/120\n",
            "9/9 [==============================] - 0s 15ms/step - loss: 2.2595 - accuracy: 0.1333 - val_loss: 2.2291 - val_accuracy: 0.1739\n",
            "Epoch 78/120\n",
            "9/9 [==============================] - 0s 15ms/step - loss: 2.2569 - accuracy: 0.1556 - val_loss: 2.2297 - val_accuracy: 0.1739\n",
            "Epoch 79/120\n",
            "9/9 [==============================] - 0s 16ms/step - loss: 2.2598 - accuracy: 0.1556 - val_loss: 2.2286 - val_accuracy: 0.1739\n",
            "Epoch 80/120\n",
            "9/9 [==============================] - 0s 16ms/step - loss: 2.2556 - accuracy: 0.1556 - val_loss: 2.2268 - val_accuracy: 0.1739\n",
            "Epoch 81/120\n",
            "9/9 [==============================] - 0s 18ms/step - loss: 2.2606 - accuracy: 0.1333 - val_loss: 2.2315 - val_accuracy: 0.1739\n",
            "Epoch 82/120\n",
            "9/9 [==============================] - 0s 18ms/step - loss: 2.2534 - accuracy: 0.1556 - val_loss: 2.2300 - val_accuracy: 0.1739\n",
            "Epoch 83/120\n",
            "9/9 [==============================] - 0s 16ms/step - loss: 2.2542 - accuracy: 0.1444 - val_loss: 2.2269 - val_accuracy: 0.1739\n",
            "Epoch 84/120\n",
            "9/9 [==============================] - 0s 18ms/step - loss: 2.2569 - accuracy: 0.1333 - val_loss: 2.2255 - val_accuracy: 0.1739\n",
            "Epoch 85/120\n",
            "9/9 [==============================] - 0s 16ms/step - loss: 2.2492 - accuracy: 0.1556 - val_loss: 2.2239 - val_accuracy: 0.1739\n",
            "Epoch 86/120\n",
            "9/9 [==============================] - 0s 16ms/step - loss: 2.2528 - accuracy: 0.1556 - val_loss: 2.2259 - val_accuracy: 0.1739\n",
            "Epoch 87/120\n",
            "9/9 [==============================] - 0s 18ms/step - loss: 2.2600 - accuracy: 0.1556 - val_loss: 2.2274 - val_accuracy: 0.1739\n",
            "Epoch 88/120\n",
            "9/9 [==============================] - 0s 16ms/step - loss: 2.2501 - accuracy: 0.1778 - val_loss: 2.2269 - val_accuracy: 0.1739\n",
            "Epoch 89/120\n",
            "9/9 [==============================] - 0s 20ms/step - loss: 2.2543 - accuracy: 0.1778 - val_loss: 2.2253 - val_accuracy: 0.1739\n",
            "Epoch 90/120\n",
            "9/9 [==============================] - 0s 17ms/step - loss: 2.2571 - accuracy: 0.1778 - val_loss: 2.2279 - val_accuracy: 0.1739\n",
            "Epoch 91/120\n",
            "9/9 [==============================] - 0s 16ms/step - loss: 2.2531 - accuracy: 0.1556 - val_loss: 2.2273 - val_accuracy: 0.1739\n",
            "Epoch 92/120\n",
            "9/9 [==============================] - 0s 16ms/step - loss: 2.2595 - accuracy: 0.1444 - val_loss: 2.2210 - val_accuracy: 0.1739\n",
            "Epoch 93/120\n",
            "9/9 [==============================] - 0s 16ms/step - loss: 2.2596 - accuracy: 0.1556 - val_loss: 2.2205 - val_accuracy: 0.1739\n",
            "Epoch 94/120\n",
            "9/9 [==============================] - 0s 23ms/step - loss: 2.2473 - accuracy: 0.1667 - val_loss: 2.2255 - val_accuracy: 0.1739\n",
            "Epoch 95/120\n",
            "9/9 [==============================] - 0s 27ms/step - loss: 2.2510 - accuracy: 0.1667 - val_loss: 2.2258 - val_accuracy: 0.1739\n",
            "Epoch 96/120\n",
            "9/9 [==============================] - 0s 25ms/step - loss: 2.2529 - accuracy: 0.1444 - val_loss: 2.2276 - val_accuracy: 0.1739\n",
            "Epoch 97/120\n",
            "9/9 [==============================] - 0s 25ms/step - loss: 2.2501 - accuracy: 0.1667 - val_loss: 2.2225 - val_accuracy: 0.1739\n",
            "Epoch 98/120\n",
            "9/9 [==============================] - 0s 24ms/step - loss: 2.2489 - accuracy: 0.1667 - val_loss: 2.2186 - val_accuracy: 0.1739\n",
            "Epoch 99/120\n",
            "9/9 [==============================] - 0s 29ms/step - loss: 2.2443 - accuracy: 0.1667 - val_loss: 2.2177 - val_accuracy: 0.1739\n",
            "Epoch 100/120\n",
            "9/9 [==============================] - 0s 24ms/step - loss: 2.2442 - accuracy: 0.1667 - val_loss: 2.2162 - val_accuracy: 0.1739\n",
            "Epoch 101/120\n",
            "9/9 [==============================] - 0s 26ms/step - loss: 2.2416 - accuracy: 0.1556 - val_loss: 2.2145 - val_accuracy: 0.1739\n",
            "Epoch 102/120\n",
            "9/9 [==============================] - 0s 26ms/step - loss: 2.2431 - accuracy: 0.1556 - val_loss: 2.2139 - val_accuracy: 0.1739\n",
            "Epoch 103/120\n",
            "9/9 [==============================] - 0s 29ms/step - loss: 2.2450 - accuracy: 0.1556 - val_loss: 2.2091 - val_accuracy: 0.1739\n",
            "Epoch 104/120\n",
            "9/9 [==============================] - 0s 25ms/step - loss: 2.2494 - accuracy: 0.1444 - val_loss: 2.2086 - val_accuracy: 0.1739\n",
            "Epoch 105/120\n",
            "9/9 [==============================] - 0s 24ms/step - loss: 2.2345 - accuracy: 0.1667 - val_loss: 2.2080 - val_accuracy: 0.1739\n",
            "Epoch 106/120\n",
            "9/9 [==============================] - 0s 25ms/step - loss: 2.2354 - accuracy: 0.1778 - val_loss: 2.2049 - val_accuracy: 0.1739\n",
            "Epoch 107/120\n",
            "9/9 [==============================] - 0s 33ms/step - loss: 2.2415 - accuracy: 0.1778 - val_loss: 2.2032 - val_accuracy: 0.1739\n",
            "Epoch 108/120\n",
            "9/9 [==============================] - 0s 27ms/step - loss: 2.2239 - accuracy: 0.1778 - val_loss: 2.1958 - val_accuracy: 0.1739\n",
            "Epoch 109/120\n",
            "9/9 [==============================] - 0s 28ms/step - loss: 2.2304 - accuracy: 0.1444 - val_loss: 2.1877 - val_accuracy: 0.1739\n",
            "Epoch 110/120\n",
            "9/9 [==============================] - 0s 26ms/step - loss: 2.2218 - accuracy: 0.1778 - val_loss: 2.1858 - val_accuracy: 0.1739\n",
            "Epoch 111/120\n",
            "9/9 [==============================] - 0s 15ms/step - loss: 2.2100 - accuracy: 0.1667 - val_loss: 2.1754 - val_accuracy: 0.1739\n",
            "Epoch 112/120\n",
            "9/9 [==============================] - 0s 21ms/step - loss: 2.2137 - accuracy: 0.2000 - val_loss: 2.1657 - val_accuracy: 0.1739\n",
            "Epoch 113/120\n",
            "9/9 [==============================] - 0s 15ms/step - loss: 2.1996 - accuracy: 0.1889 - val_loss: 2.1576 - val_accuracy: 0.1739\n",
            "Epoch 114/120\n",
            "9/9 [==============================] - 0s 16ms/step - loss: 2.1854 - accuracy: 0.1778 - val_loss: 2.1400 - val_accuracy: 0.1739\n",
            "Epoch 115/120\n",
            "9/9 [==============================] - 0s 17ms/step - loss: 2.1892 - accuracy: 0.2333 - val_loss: 2.1353 - val_accuracy: 0.2174\n",
            "Epoch 116/120\n",
            "9/9 [==============================] - 0s 16ms/step - loss: 2.1718 - accuracy: 0.2000 - val_loss: 2.1064 - val_accuracy: 0.1739\n",
            "Epoch 117/120\n",
            "9/9 [==============================] - 0s 17ms/step - loss: 2.1367 - accuracy: 0.1889 - val_loss: 2.0937 - val_accuracy: 0.2609\n",
            "Epoch 118/120\n",
            "9/9 [==============================] - 0s 19ms/step - loss: 2.1232 - accuracy: 0.1778 - val_loss: 2.0630 - val_accuracy: 0.3478\n",
            "Epoch 119/120\n",
            "9/9 [==============================] - 0s 20ms/step - loss: 2.0759 - accuracy: 0.2667 - val_loss: 2.0215 - val_accuracy: 0.3478\n",
            "Epoch 120/120\n",
            "9/9 [==============================] - 0s 17ms/step - loss: 2.0453 - accuracy: 0.3000 - val_loss: 1.9888 - val_accuracy: 0.3478\n",
            "Modelo entrenado!\n"
          ]
        }
      ],
      "source": [
        "TAMANO_LOTE = 10\n",
        "print(\"Entrenando modelo...\");\n",
        "etapas = 120\n",
        "history = modelo.fit(\n",
        "    x_train, y_train,\n",
        "    epochs = etapas,\n",
        "    batch_size=TAMANO_LOTE,\n",
        "    validation_data=(x_test, y_test),\n",
        "    # steps_per_epoch=int(np.ceil(113 / float(TAMANO_LOTE))),\n",
        "    # validation_steps=int(np.ceil(13 / float(TAMANO_LOTE)))\n",
        ")\n",
        "\n",
        "print(\"Modelo entrenado!\");"
      ]
    },
    {
      "cell_type": "markdown",
      "id": "82ec540a",
      "metadata": {
        "id": "82ec540a"
      },
      "source": [
        "## Guardamos nuestras predicciones de la data de Testeo"
      ]
    },
    {
      "cell_type": "code",
      "execution_count": null,
      "id": "1846954d",
      "metadata": {
        "id": "1846954d",
        "outputId": "17a4a6be-8f47-4016-e1ed-1d089b18fc7e",
        "colab": {
          "base_uri": "https://localhost:8080/"
        }
      },
      "outputs": [
        {
          "output_type": "stream",
          "name": "stdout",
          "text": [
            "1/1 [==============================] - 0s 106ms/step\n"
          ]
        }
      ],
      "source": [
        "predicciones = modelo.predict([x_test])"
      ]
    },
    {
      "cell_type": "markdown",
      "id": "b9b76d4a",
      "metadata": {
        "id": "b9b76d4a"
      },
      "source": [
        "## Hacemos una pequeña predicción de un elemento de la data y comprobamos"
      ]
    },
    {
      "cell_type": "code",
      "execution_count": null,
      "id": "20412ccd",
      "metadata": {
        "id": "20412ccd",
        "outputId": "892e844c-e0e8-4eec-b99c-5a69c7590b6d",
        "colab": {
          "base_uri": "https://localhost:8080/",
          "height": 465
        }
      },
      "outputs": [
        {
          "output_type": "stream",
          "name": "stdout",
          "text": [
            "8\n"
          ]
        },
        {
          "output_type": "execute_result",
          "data": {
            "text/plain": [
              "<matplotlib.image.AxesImage at 0x79fd005ba110>"
            ]
          },
          "metadata": {},
          "execution_count": 21
        },
        {
          "output_type": "display_data",
          "data": {
            "text/plain": [
              "<Figure size 640x480 with 1 Axes>"
            ],
            "image/png": "[encoded data removed]"
          },
          "metadata": {}
        }
      ],
      "source": [
        "print(np.argmax(predicciones[1]))\n",
        "plt.imshow(x_test[1], cmap = plt.cm.binary)"
      ]
    },
    {
      "cell_type": "markdown",
      "id": "ce27a2f6",
      "metadata": {
        "id": "ce27a2f6"
      },
      "source": [
        "## Guardamos nuestro modelo entrenado en el formato óptimo .h5"
      ]
    },
    {
      "cell_type": "code",
      "execution_count": null,
      "id": "c1ff875f",
      "metadata": {
        "id": "c1ff875f",
        "colab": {
          "base_uri": "https://localhost:8080/"
        },
        "outputId": "7fff0677-6771-4339-e046-87d5fb61f58b"
      },
      "outputs": [
        {
          "output_type": "stream",
          "name": "stderr",
          "text": [
            "/usr/local/lib/python3.10/dist-packages/keras/src/engine/training.py:3103: UserWarning: You are saving your model as an HDF5 file via `model.save()`. This file format is considered legacy. We recommend using instead the native Keras format, e.g. `model.save('my_model.keras')`.\n",
            "  saving_api.save_model(\n"
          ]
        }
      ],
      "source": [
        "modelo.save('numeros.h5')"
      ]
    },
    {
      "cell_type": "markdown",
      "id": "5b68d40a",
      "metadata": {
        "id": "5b68d40a"
      },
      "source": [
        "## Comprobamos que se guardó bien en nuestro ordenador"
      ]
    },
    {
      "cell_type": "code",
      "execution_count": null,
      "id": "dc1e92dc",
      "metadata": {
        "id": "dc1e92dc",
        "outputId": "45f41e3e-d326-4989-bfcd-ea52730776ff",
        "colab": {
          "base_uri": "https://localhost:8080/"
        }
      },
      "outputs": [
        {
          "output_type": "stream",
          "name": "stdout",
          "text": [
            "numeros.h5  sample_data  X.npy\tY.npy\n"
          ]
        }
      ],
      "source": [
        "!dir"
      ]
    },
    {
      "cell_type": "markdown",
      "id": "85114740",
      "metadata": {
        "id": "85114740"
      },
      "source": [
        "## Instalamos la libreria Tensorflowjs para exportar nuestro modelo .h5 en un formato .json"
      ]
    },
    {
      "cell_type": "code",
      "execution_count": null,
      "id": "030bb112",
      "metadata": {
        "id": "030bb112",
        "outputId": "bd2ecbe0-0083-4f24-8efd-6b7ac9f0ce8e",
        "colab": {
          "base_uri": "https://localhost:8080/"
        }
      },
      "outputs": [
        {
          "output_type": "stream",
          "name": "stdout",
          "text": [
            "Requirement already satisfied: tensorflowjs in /usr/local/lib/python3.10/dist-packages (4.20.0)\n",
            "Requirement already satisfied: flax>=0.7.2 in /usr/local/lib/python3.10/dist-packages (from tensorflowjs) (0.8.4)\n",
            "Requirement already satisfied: importlib_resources>=5.9.0 in /usr/local/lib/python3.10/dist-packages (from tensorflowjs) (6.4.0)\n",
            "Requirement already satisfied: jax>=0.4.13 in /usr/local/lib/python3.10/dist-packages (from tensorflowjs) (0.4.26)\n",
            "Requirement already satisfied: jaxlib>=0.4.13 in /usr/local/lib/python3.10/dist-packages (from tensorflowjs) (0.4.26+cuda12.cudnn89)\n",
            "Requirement already satisfied: tensorflow<3,>=2.13.0 in /usr/local/lib/python3.10/dist-packages (from tensorflowjs) (2.16.1)\n",
            "Requirement already satisfied: tf-keras>=2.13.0 in /usr/local/lib/python3.10/dist-packages (from tensorflowjs) (2.16.0)\n",
            "Requirement already satisfied: tensorflow-decision-forests>=1.5.0 in /usr/local/lib/python3.10/dist-packages (from tensorflowjs) (1.9.1)\n",
            "Requirement already satisfied: six<2,>=1.16.0 in /usr/local/lib/python3.10/dist-packages (from tensorflowjs) (1.16.0)\n",
            "Requirement already satisfied: tensorflow-hub>=0.16.1 in /usr/local/lib/python3.10/dist-packages (from tensorflowjs) (0.16.1)\n",
            "Requirement already satisfied: packaging~=23.1 in /usr/local/lib/python3.10/dist-packages (from tensorflowjs) (23.2)\n",
            "Requirement already satisfied: numpy>=1.22 in /usr/local/lib/python3.10/dist-packages (from flax>=0.7.2->tensorflowjs) (1.25.2)\n",
            "Requirement already satisfied: msgpack in /usr/local/lib/python3.10/dist-packages (from flax>=0.7.2->tensorflowjs) (1.0.8)\n",
            "Requirement already satisfied: optax in /usr/local/lib/python3.10/dist-packages (from flax>=0.7.2->tensorflowjs) (0.2.2)\n",
            "Requirement already satisfied: orbax-checkpoint in /usr/local/lib/python3.10/dist-packages (from flax>=0.7.2->tensorflowjs) (0.4.4)\n",
            "Requirement already satisfied: tensorstore in /usr/local/lib/python3.10/dist-packages (from flax>=0.7.2->tensorflowjs) (0.1.45)\n",
            "Requirement already satisfied: rich>=11.1 in /usr/local/lib/python3.10/dist-packages (from flax>=0.7.2->tensorflowjs) (13.7.1)\n",
            "Requirement already satisfied: typing-extensions>=4.2 in /usr/local/lib/python3.10/dist-packages (from flax>=0.7.2->tensorflowjs) (4.12.2)\n",
            "Requirement already satisfied: PyYAML>=5.4.1 in /usr/local/lib/python3.10/dist-packages (from flax>=0.7.2->tensorflowjs) (6.0.1)\n",
            "Requirement already satisfied: ml-dtypes>=0.2.0 in /usr/local/lib/python3.10/dist-packages (from jax>=0.4.13->tensorflowjs) (0.3.2)\n",
            "Requirement already satisfied: opt-einsum in /usr/local/lib/python3.10/dist-packages (from jax>=0.4.13->tensorflowjs) (3.3.0)\n",
            "Requirement already satisfied: scipy>=1.9 in /usr/local/lib/python3.10/dist-packages (from jax>=0.4.13->tensorflowjs) (1.11.4)\n",
            "Requirement already satisfied: absl-py>=1.0.0 in /usr/local/lib/python3.10/dist-packages (from tensorflow<3,>=2.13.0->tensorflowjs) (1.4.0)\n",
            "Requirement already satisfied: astunparse>=1.6.0 in /usr/local/lib/python3.10/dist-packages (from tensorflow<3,>=2.13.0->tensorflowjs) (1.6.3)\n",
            "Requirement already satisfied: flatbuffers>=23.5.26 in /usr/local/lib/python3.10/dist-packages (from tensorflow<3,>=2.13.0->tensorflowjs) (24.3.25)\n",
            "Requirement already satisfied: gast!=0.5.0,!=0.5.1,!=0.5.2,>=0.2.1 in /usr/local/lib/python3.10/dist-packages (from tensorflow<3,>=2.13.0->tensorflowjs) (0.5.4)\n",
            "Requirement already satisfied: google-pasta>=0.1.1 in /usr/local/lib/python3.10/dist-packages (from tensorflow<3,>=2.13.0->tensorflowjs) (0.2.0)\n",
            "Requirement already satisfied: h5py>=3.10.0 in /usr/local/lib/python3.10/dist-packages (from tensorflow<3,>=2.13.0->tensorflowjs) (3.11.0)\n",
            "Requirement already satisfied: libclang>=13.0.0 in /usr/local/lib/python3.10/dist-packages (from tensorflow<3,>=2.13.0->tensorflowjs) (18.1.1)\n",
            "Requirement already satisfied: protobuf!=4.21.0,!=4.21.1,!=4.21.2,!=4.21.3,!=4.21.4,!=4.21.5,<5.0.0dev,>=3.20.3 in /usr/local/lib/python3.10/dist-packages (from tensorflow<3,>=2.13.0->tensorflowjs) (3.20.3)\n",
            "Requirement already satisfied: requests<3,>=2.21.0 in /usr/local/lib/python3.10/dist-packages (from tensorflow<3,>=2.13.0->tensorflowjs) (2.31.0)\n",
            "Requirement already satisfied: setuptools in /usr/local/lib/python3.10/dist-packages (from tensorflow<3,>=2.13.0->tensorflowjs) (67.7.2)\n",
            "Requirement already satisfied: termcolor>=1.1.0 in /usr/local/lib/python3.10/dist-packages (from tensorflow<3,>=2.13.0->tensorflowjs) (2.4.0)\n",
            "Requirement already satisfied: wrapt>=1.11.0 in /usr/local/lib/python3.10/dist-packages (from tensorflow<3,>=2.13.0->tensorflowjs) (1.14.1)\n",
            "Requirement already satisfied: grpcio<2.0,>=1.24.3 in /usr/local/lib/python3.10/dist-packages (from tensorflow<3,>=2.13.0->tensorflowjs) (1.64.1)\n",
            "Requirement already satisfied: tensorboard<2.17,>=2.16 in /usr/local/lib/python3.10/dist-packages (from tensorflow<3,>=2.13.0->tensorflowjs) (2.16.2)\n",
            "Requirement already satisfied: keras>=3.0.0 in /usr/local/lib/python3.10/dist-packages (from tensorflow<3,>=2.13.0->tensorflowjs) (3.3.3)\n",
            "Requirement already satisfied: tensorflow-io-gcs-filesystem>=0.23.1 in /usr/local/lib/python3.10/dist-packages (from tensorflow<3,>=2.13.0->tensorflowjs) (0.37.0)\n",
            "Requirement already satisfied: pandas in /usr/local/lib/python3.10/dist-packages (from tensorflow-decision-forests>=1.5.0->tensorflowjs) (2.0.3)\n",
            "Requirement already satisfied: wheel in /usr/local/lib/python3.10/dist-packages (from tensorflow-decision-forests>=1.5.0->tensorflowjs) (0.43.0)\n",
            "Requirement already satisfied: wurlitzer in /usr/local/lib/python3.10/dist-packages (from tensorflow-decision-forests>=1.5.0->tensorflowjs) (3.1.1)\n",
            "Requirement already satisfied: ydf in /usr/local/lib/python3.10/dist-packages (from tensorflow-decision-forests>=1.5.0->tensorflowjs) (0.5.0)\n",
            "Requirement already satisfied: namex in /usr/local/lib/python3.10/dist-packages (from keras>=3.0.0->tensorflow<3,>=2.13.0->tensorflowjs) (0.0.8)\n",
            "Requirement already satisfied: optree in /usr/local/lib/python3.10/dist-packages (from keras>=3.0.0->tensorflow<3,>=2.13.0->tensorflowjs) (0.11.0)\n",
            "Requirement already satisfied: charset-normalizer<4,>=2 in /usr/local/lib/python3.10/dist-packages (from requests<3,>=2.21.0->tensorflow<3,>=2.13.0->tensorflowjs) (3.3.2)\n",
            "Requirement already satisfied: idna<4,>=2.5 in /usr/local/lib/python3.10/dist-packages (from requests<3,>=2.21.0->tensorflow<3,>=2.13.0->tensorflowjs) (3.7)\n",
            "Requirement already satisfied: urllib3<3,>=1.21.1 in /usr/local/lib/python3.10/dist-packages (from requests<3,>=2.21.0->tensorflow<3,>=2.13.0->tensorflowjs) (2.0.7)\n",
            "Requirement already satisfied: certifi>=2017.4.17 in /usr/local/lib/python3.10/dist-packages (from requests<3,>=2.21.0->tensorflow<3,>=2.13.0->tensorflowjs) (2024.6.2)\n",
            "Requirement already satisfied: markdown-it-py>=2.2.0 in /usr/local/lib/python3.10/dist-packages (from rich>=11.1->flax>=0.7.2->tensorflowjs) (3.0.0)\n",
            "Requirement already satisfied: pygments<3.0.0,>=2.13.0 in /usr/local/lib/python3.10/dist-packages (from rich>=11.1->flax>=0.7.2->tensorflowjs) (2.16.1)\n",
            "Requirement already satisfied: markdown>=2.6.8 in /usr/local/lib/python3.10/dist-packages (from tensorboard<2.17,>=2.16->tensorflow<3,>=2.13.0->tensorflowjs) (3.6)\n",
            "Requirement already satisfied: tensorboard-data-server<0.8.0,>=0.7.0 in /usr/local/lib/python3.10/dist-packages (from tensorboard<2.17,>=2.16->tensorflow<3,>=2.13.0->tensorflowjs) (0.7.2)\n",
            "Requirement already satisfied: werkzeug>=1.0.1 in /usr/local/lib/python3.10/dist-packages (from tensorboard<2.17,>=2.16->tensorflow<3,>=2.13.0->tensorflowjs) (3.0.3)\n",
            "Requirement already satisfied: chex>=0.1.86 in /usr/local/lib/python3.10/dist-packages (from optax->flax>=0.7.2->tensorflowjs) (0.1.86)\n",
            "Requirement already satisfied: etils[epath,epy] in /usr/local/lib/python3.10/dist-packages (from orbax-checkpoint->flax>=0.7.2->tensorflowjs) (1.7.0)\n",
            "Requirement already satisfied: nest_asyncio in /usr/local/lib/python3.10/dist-packages (from orbax-checkpoint->flax>=0.7.2->tensorflowjs) (1.6.0)\n",
            "Requirement already satisfied: python-dateutil>=2.8.2 in /usr/local/lib/python3.10/dist-packages (from pandas->tensorflow-decision-forests>=1.5.0->tensorflowjs) (2.8.2)\n",
            "Requirement already satisfied: pytz>=2020.1 in /usr/local/lib/python3.10/dist-packages (from pandas->tensorflow-decision-forests>=1.5.0->tensorflowjs) (2023.4)\n",
            "Requirement already satisfied: tzdata>=2022.1 in /usr/local/lib/python3.10/dist-packages (from pandas->tensorflow-decision-forests>=1.5.0->tensorflowjs) (2024.1)\n",
            "Requirement already satisfied: toolz>=0.9.0 in /usr/local/lib/python3.10/dist-packages (from chex>=0.1.86->optax->flax>=0.7.2->tensorflowjs) (0.12.1)\n",
            "Requirement already satisfied: mdurl~=0.1 in /usr/local/lib/python3.10/dist-packages (from markdown-it-py>=2.2.0->rich>=11.1->flax>=0.7.2->tensorflowjs) (0.1.2)\n",
            "Requirement already satisfied: MarkupSafe>=2.1.1 in /usr/local/lib/python3.10/dist-packages (from werkzeug>=1.0.1->tensorboard<2.17,>=2.16->tensorflow<3,>=2.13.0->tensorflowjs) (2.1.5)\n",
            "Requirement already satisfied: fsspec in /usr/local/lib/python3.10/dist-packages (from etils[epath,epy]->orbax-checkpoint->flax>=0.7.2->tensorflowjs) (2023.6.0)\n",
            "Requirement already satisfied: zipp in /usr/local/lib/python3.10/dist-packages (from etils[epath,epy]->orbax-checkpoint->flax>=0.7.2->tensorflowjs) (3.19.2)\n"
          ]
        }
      ],
      "source": [
        "!pip3 install tensorflowjs"
      ]
    },
    {
      "cell_type": "markdown",
      "id": "f565bc43",
      "metadata": {
        "id": "f565bc43"
      },
      "source": [
        "## Convertimos nuestro modelo en formato .json y lo guardamos en nuestro directorio"
      ]
    },
    {
      "cell_type": "code",
      "execution_count": null,
      "id": "bfdee79f",
      "metadata": {
        "id": "bfdee79f",
        "outputId": "c3745a73-729b-4db8-9e21-b2773ccd799d",
        "colab": {
          "base_uri": "https://localhost:8080/"
        }
      },
      "outputs": [
        {
          "output_type": "stream",
          "name": "stdout",
          "text": [
            "2024-06-24 00:29:21.581894: I tensorflow/core/platform/cpu_feature_guard.cc:210] This TensorFlow binary is optimized to use available CPU instructions in performance-critical operations.\n",
            "To enable the following instructions: AVX2 FMA, in other operations, rebuild TensorFlow with the appropriate compiler flags.\n",
            "2024-06-24 00:29:23.910687: W tensorflow/compiler/tf2tensorrt/utils/py_utils.cc:38] TF-TRT Warning: Could not find TensorRT\n"
          ]
        }
      ],
      "source": [
        "!tensorflowjs_converter --input_format keras numeros.h5 output"
      ]
    },
    {
      "cell_type": "markdown",
      "id": "1f18a5f3",
      "metadata": {
        "id": "1f18a5f3"
      },
      "source": [
        "## Comprobamos que se realizó con éxito nuestra conversión y tenemos todos los archivos necesarios para importar nuestro modelo a nuestro servidor local"
      ]
    },
    {
      "cell_type": "code",
      "execution_count": null,
      "id": "487c1fa1",
      "metadata": {
        "id": "487c1fa1",
        "outputId": "937c98c3-e896-443c-8425-8e71a6c269cc",
        "colab": {
          "base_uri": "https://localhost:8080/"
        }
      },
      "outputs": [
        {
          "output_type": "stream",
          "name": "stdout",
          "text": [
            "group1-shard1of1.bin  model.json\n"
          ]
        }
      ],
      "source": [
        "!dir output"
      ]
    }
  ],
  "metadata": {
    "kernelspec": {
      "display_name": "Python 3",
      "name": "python3"
    },
    "language_info": {
      "codemirror_mode": {
        "name": "ipython",
        "version": 3
      },
      "file_extension": ".py",
      "mimetype": "text/x-python",
      "name": "python",
      "nbconvert_exporter": "python",
      "pygments_lexer": "ipython3",
      "version": "3.9.12"
    },
    "vscode": {
      "interpreter": {
        "hash": "be914e7513e46b74d1fe728813d92c7b0d88cc3ea1530fbc101cfcf259cce63f"
      }
    },
    "colab": {
      "provenance": []
    }
  },
  "nbformat": 4,
  "nbformat_minor": 5
}