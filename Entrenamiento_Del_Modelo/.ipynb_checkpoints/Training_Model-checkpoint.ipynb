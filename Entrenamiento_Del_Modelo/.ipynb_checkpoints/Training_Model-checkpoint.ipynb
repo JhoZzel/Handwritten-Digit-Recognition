{
 "cells": [
  {
   "cell_type": "markdown",
   "id": "21c66b3b",
   "metadata": {},
   "source": [
    "# .:Código para el entrenamiento de una Red Neuronal Convolucional usando Tensorflow y el Database MNIST:."
   ]
  },
  {
   "cell_type": "code",
   "execution_count": 1,
   "id": "74640917",
   "metadata": {},
   "outputs": [],
   "source": [
    "import tensorflow as tf # pyp install tensorflow"
   ]
  },
  {
   "cell_type": "markdown",
   "id": "1de53ccc",
   "metadata": {},
   "source": [
    "# Cargando - \"Conjunto de datos MNIST\"\n",
    "## Que contiene muestras de entrenamiento = 60,000 , Muestras de testeo = 10,000\n",
    "### TensorFlow ya contiene el conjunto de datos MNIST que puede ser cargado usando Keras"
   ]
  },
  {
   "cell_type": "code",
   "execution_count": 222,
   "id": "b60fd159",
   "metadata": {},
   "outputs": [],
   "source": [
    "mnist = tf.keras.datasets.mnist ## Se trata básicamente de escribir a mano los caracteres a partir de imágenes de tamaño 28x28 de 0 a 9"
   ]
  },
  {
   "cell_type": "markdown",
   "id": "bc4db0d9",
   "metadata": {},
   "source": [
    "## Despues de cargar los datos MNIST, dividir en conjuntos de datos de entrenamiento y de testeo"
   ]
  },
  {
   "cell_type": "code",
   "execution_count": 223,
   "id": "79a7792e",
   "metadata": {},
   "outputs": [],
   "source": [
    "## Desempaquetando el conjunto de datos en conjuntos de datos de entrenamiento y de testeo\n",
    "(x_train, y_train),(x_test, y_test) = mnist.load_data()"
   ]
  },
  {
   "cell_type": "code",
   "execution_count": 224,
   "id": "251090bf",
   "metadata": {},
   "outputs": [
    {
     "data": {
      "text/plain": [
       "(60000, 28, 28)"
      ]
     },
     "execution_count": 224,
     "metadata": {},
     "output_type": "execute_result"
    }
   ],
   "source": [
    "x_train.shape # Comprobamos las dimensionses"
   ]
  },
  {
   "cell_type": "markdown",
   "id": "fc0f95fb",
   "metadata": {},
   "source": [
    "# Hacer 'one-hot encoding' de los resultados (En lugar de tener como resultado una sola neurona, tendre 10 donde solo el resultado correcto sera 1 y el resto 0)\n"
   ]
  },
  {
   "cell_type": "code",
   "execution_count": 225,
   "id": "d3d85337",
   "metadata": {},
   "outputs": [],
   "source": [
    "from tensorflow.keras.utils import to_categorical\n",
    "y_train = to_categorical(y_train)\n",
    "y_test = to_categorical(y_test)"
   ]
  },
  {
   "cell_type": "markdown",
   "id": "c08725e5",
   "metadata": {},
   "source": [
    "## Nos da 1 en la posicion de la etiqueta correspondiente y 0 en las demas posiciones"
   ]
  },
  {
   "cell_type": "code",
   "execution_count": 226,
   "id": "516c38a9",
   "metadata": {
    "scrolled": true
   },
   "outputs": [
    {
     "name": "stdout",
     "output_type": "stream",
     "text": [
      "[[0. 0. 0. ... 0. 0. 0.]\n",
      " [1. 0. 0. ... 0. 0. 0.]\n",
      " [0. 0. 0. ... 0. 0. 0.]\n",
      " ...\n",
      " [0. 0. 0. ... 0. 0. 0.]\n",
      " [0. 0. 0. ... 0. 0. 0.]\n",
      " [0. 0. 0. ... 0. 1. 0.]]\n"
     ]
    }
   ],
   "source": [
    "print(y_train)"
   ]
  },
  {
   "cell_type": "markdown",
   "id": "3b956be6",
   "metadata": {},
   "source": [
    "### Esta celda solo es para ver como se ve el primer dato de MNIST"
   ]
  },
  {
   "cell_type": "code",
   "execution_count": 227,
   "id": "cf2a7a9c",
   "metadata": {},
   "outputs": [
    {
     "data": {
      "image/png": "[encoded data removed]",
      "text/plain": [
       "<Figure size 432x288 with 1 Axes>"
      ]
     },
     "metadata": {
      "needs_background": "light"
     },
     "output_type": "display_data"
    }
   ],
   "source": [
    "import numpy as np\n",
    "import matplotlib.pyplot as plt # pyp install matplotlib\n",
    "plt.imshow(x_train[0] , cmap = plt.cm.binary) #si queremos visualizarlo en escala de grises\n",
    "# Mostramos tambien su etiqueta y comprobamos que esta etiquetado correctamente\n",
    "etiq = \"ETIQUETA: \" + str(np.argmax(y_train[0]))# Imprimo el numero donde la columna es 1\n",
    "plt.title(etiq)\n",
    "plt.show() ## Para mostrar el grafico"
   ]
  },
  {
   "cell_type": "code",
   "execution_count": 228,
   "id": "d2f47d83",
   "metadata": {
    "scrolled": true
   },
   "outputs": [
    {
     "name": "stdout",
     "output_type": "stream",
     "text": [
      "[[  0   0   0   0   0   0   0   0   0   0   0   0   0   0   0   0   0   0\n",
      "    0   0   0   0   0   0   0   0   0   0]\n",
      " [  0   0   0   0   0   0   0   0   0   0   0   0   0   0   0   0   0   0\n",
      "    0   0   0   0   0   0   0   0   0   0]\n",
      " [  0   0   0   0   0   0   0   0   0   0   0   0   0   0   0   0   0   0\n",
      "    0   0   0   0   0   0   0   0   0   0]\n",
      " [  0   0   0   0   0   0   0   0   0   0   0   0   0   0   0   0   0   0\n",
      "    0   0   0   0   0   0   0   0   0   0]\n",
      " [  0   0   0   0   0   0   0   0   0   0   0   0   0   0   0   0   0   0\n",
      "    0   0   0   0   0   0   0   0   0   0]\n",
      " [  0   0   0   0   0   0   0   0   0   0   0   0   3  18  18  18 126 136\n",
      "  175  26 166 255 247 127   0   0   0   0]\n",
      " [  0   0   0   0   0   0   0   0  30  36  94 154 170 253 253 253 253 253\n",
      "  225 172 253 242 195  64   0   0   0   0]\n",
      " [  0   0   0   0   0   0   0  49 238 253 253 253 253 253 253 253 253 251\n",
      "   93  82  82  56  39   0   0   0   0   0]\n",
      " [  0   0   0   0   0   0   0  18 219 253 253 253 253 253 198 182 247 241\n",
      "    0   0   0   0   0   0   0   0   0   0]\n",
      " [  0   0   0   0   0   0   0   0  80 156 107 253 253 205  11   0  43 154\n",
      "    0   0   0   0   0   0   0   0   0   0]\n",
      " [  0   0   0   0   0   0   0   0   0  14   1 154 253  90   0   0   0   0\n",
      "    0   0   0   0   0   0   0   0   0   0]\n",
      " [  0   0   0   0   0   0   0   0   0   0   0 139 253 190   2   0   0   0\n",
      "    0   0   0   0   0   0   0   0   0   0]\n",
      " [  0   0   0   0   0   0   0   0   0   0   0  11 190 253  70   0   0   0\n",
      "    0   0   0   0   0   0   0   0   0   0]\n",
      " [  0   0   0   0   0   0   0   0   0   0   0   0  35 241 225 160 108   1\n",
      "    0   0   0   0   0   0   0   0   0   0]\n",
      " [  0   0   0   0   0   0   0   0   0   0   0   0   0  81 240 253 253 119\n",
      "   25   0   0   0   0   0   0   0   0   0]\n",
      " [  0   0   0   0   0   0   0   0   0   0   0   0   0   0  45 186 253 253\n",
      "  150  27   0   0   0   0   0   0   0   0]\n",
      " [  0   0   0   0   0   0   0   0   0   0   0   0   0   0   0  16  93 252\n",
      "  253 187   0   0   0   0   0   0   0   0]\n",
      " [  0   0   0   0   0   0   0   0   0   0   0   0   0   0   0   0   0 249\n",
      "  253 249  64   0   0   0   0   0   0   0]\n",
      " [  0   0   0   0   0   0   0   0   0   0   0   0   0   0  46 130 183 253\n",
      "  253 207   2   0   0   0   0   0   0   0]\n",
      " [  0   0   0   0   0   0   0   0   0   0   0   0  39 148 229 253 253 253\n",
      "  250 182   0   0   0   0   0   0   0   0]\n",
      " [  0   0   0   0   0   0   0   0   0   0  24 114 221 253 253 253 253 201\n",
      "   78   0   0   0   0   0   0   0   0   0]\n",
      " [  0   0   0   0   0   0   0   0  23  66 213 253 253 253 253 198  81   2\n",
      "    0   0   0   0   0   0   0   0   0   0]\n",
      " [  0   0   0   0   0   0  18 171 219 253 253 253 253 195  80   9   0   0\n",
      "    0   0   0   0   0   0   0   0   0   0]\n",
      " [  0   0   0   0  55 172 226 253 253 253 253 244 133  11   0   0   0   0\n",
      "    0   0   0   0   0   0   0   0   0   0]\n",
      " [  0   0   0   0 136 253 253 253 212 135 132  16   0   0   0   0   0   0\n",
      "    0   0   0   0   0   0   0   0   0   0]\n",
      " [  0   0   0   0   0   0   0   0   0   0   0   0   0   0   0   0   0   0\n",
      "    0   0   0   0   0   0   0   0   0   0]\n",
      " [  0   0   0   0   0   0   0   0   0   0   0   0   0   0   0   0   0   0\n",
      "    0   0   0   0   0   0   0   0   0   0]\n",
      " [  0   0   0   0   0   0   0   0   0   0   0   0   0   0   0   0   0   0\n",
      "    0   0   0   0   0   0   0   0   0   0]]\n"
     ]
    }
   ],
   "source": [
    "print (x_train[0]) # Antes de la normalizacion"
   ]
  },
  {
   "cell_type": "markdown",
   "id": "915973c1",
   "metadata": {},
   "source": [
    "## Ya que las imagenes estan en escala de grises(1 canal ==> 0 a 255), no colores (RGB)\n",
    "# Normalizando los datos | Paso de Pre-Procesamiento"
   ]
  },
  {
   "cell_type": "code",
   "execution_count": 229,
   "id": "e917e80c",
   "metadata": {
    "scrolled": true
   },
   "outputs": [],
   "source": [
    "## Se puede notar que la imagen gris y todos los valores varían de 0 a 255\n",
    "## Para normalizarlo\n",
    "x_train = x_train.astype('float32') / 255\n",
    "x_test = x_test.astype('float32') / 255"
   ]
  },
  {
   "cell_type": "code",
   "execution_count": 230,
   "id": "cd4ebf84",
   "metadata": {},
   "outputs": [
    {
     "name": "stdout",
     "output_type": "stream",
     "text": [
      "[[0.         0.         0.         0.         0.         0.\n",
      "  0.         0.         0.         0.         0.         0.\n",
      "  0.         0.         0.         0.         0.         0.\n",
      "  0.         0.         0.         0.         0.         0.\n",
      "  0.         0.         0.         0.        ]\n",
      " [0.         0.         0.         0.         0.         0.\n",
      "  0.         0.         0.         0.         0.         0.\n",
      "  0.         0.         0.         0.         0.         0.\n",
      "  0.         0.         0.         0.         0.         0.\n",
      "  0.         0.         0.         0.        ]\n",
      " [0.         0.         0.         0.         0.         0.\n",
      "  0.         0.         0.         0.         0.         0.\n",
      "  0.         0.         0.         0.         0.         0.\n",
      "  0.         0.         0.         0.         0.         0.\n",
      "  0.         0.         0.         0.        ]\n",
      " [0.         0.         0.         0.         0.         0.\n",
      "  0.         0.         0.         0.         0.         0.\n",
      "  0.         0.         0.         0.         0.         0.\n",
      "  0.         0.         0.         0.         0.         0.\n",
      "  0.         0.         0.         0.        ]\n",
      " [0.         0.         0.         0.         0.         0.\n",
      "  0.         0.         0.         0.         0.         0.\n",
      "  0.         0.         0.         0.         0.         0.\n",
      "  0.         0.         0.         0.         0.         0.\n",
      "  0.         0.         0.         0.        ]\n",
      " [0.         0.         0.         0.         0.         0.\n",
      "  0.         0.         0.         0.         0.         0.\n",
      "  0.01176471 0.07058824 0.07058824 0.07058824 0.49411765 0.53333336\n",
      "  0.6862745  0.10196079 0.6509804  1.         0.96862745 0.49803922\n",
      "  0.         0.         0.         0.        ]\n",
      " [0.         0.         0.         0.         0.         0.\n",
      "  0.         0.         0.11764706 0.14117648 0.36862746 0.6039216\n",
      "  0.6666667  0.99215686 0.99215686 0.99215686 0.99215686 0.99215686\n",
      "  0.88235295 0.6745098  0.99215686 0.9490196  0.7647059  0.2509804\n",
      "  0.         0.         0.         0.        ]\n",
      " [0.         0.         0.         0.         0.         0.\n",
      "  0.         0.19215687 0.93333334 0.99215686 0.99215686 0.99215686\n",
      "  0.99215686 0.99215686 0.99215686 0.99215686 0.99215686 0.9843137\n",
      "  0.3647059  0.32156864 0.32156864 0.21960784 0.15294118 0.\n",
      "  0.         0.         0.         0.        ]\n",
      " [0.         0.         0.         0.         0.         0.\n",
      "  0.         0.07058824 0.85882354 0.99215686 0.99215686 0.99215686\n",
      "  0.99215686 0.99215686 0.7764706  0.7137255  0.96862745 0.94509804\n",
      "  0.         0.         0.         0.         0.         0.\n",
      "  0.         0.         0.         0.        ]\n",
      " [0.         0.         0.         0.         0.         0.\n",
      "  0.         0.         0.3137255  0.6117647  0.41960785 0.99215686\n",
      "  0.99215686 0.8039216  0.04313726 0.         0.16862746 0.6039216\n",
      "  0.         0.         0.         0.         0.         0.\n",
      "  0.         0.         0.         0.        ]\n",
      " [0.         0.         0.         0.         0.         0.\n",
      "  0.         0.         0.         0.05490196 0.00392157 0.6039216\n",
      "  0.99215686 0.3529412  0.         0.         0.         0.\n",
      "  0.         0.         0.         0.         0.         0.\n",
      "  0.         0.         0.         0.        ]\n",
      " [0.         0.         0.         0.         0.         0.\n",
      "  0.         0.         0.         0.         0.         0.54509807\n",
      "  0.99215686 0.74509805 0.00784314 0.         0.         0.\n",
      "  0.         0.         0.         0.         0.         0.\n",
      "  0.         0.         0.         0.        ]\n",
      " [0.         0.         0.         0.         0.         0.\n",
      "  0.         0.         0.         0.         0.         0.04313726\n",
      "  0.74509805 0.99215686 0.27450982 0.         0.         0.\n",
      "  0.         0.         0.         0.         0.         0.\n",
      "  0.         0.         0.         0.        ]\n",
      " [0.         0.         0.         0.         0.         0.\n",
      "  0.         0.         0.         0.         0.         0.\n",
      "  0.13725491 0.94509804 0.88235295 0.627451   0.42352942 0.00392157\n",
      "  0.         0.         0.         0.         0.         0.\n",
      "  0.         0.         0.         0.        ]\n",
      " [0.         0.         0.         0.         0.         0.\n",
      "  0.         0.         0.         0.         0.         0.\n",
      "  0.         0.31764707 0.9411765  0.99215686 0.99215686 0.46666667\n",
      "  0.09803922 0.         0.         0.         0.         0.\n",
      "  0.         0.         0.         0.        ]\n",
      " [0.         0.         0.         0.         0.         0.\n",
      "  0.         0.         0.         0.         0.         0.\n",
      "  0.         0.         0.1764706  0.7294118  0.99215686 0.99215686\n",
      "  0.5882353  0.10588235 0.         0.         0.         0.\n",
      "  0.         0.         0.         0.        ]\n",
      " [0.         0.         0.         0.         0.         0.\n",
      "  0.         0.         0.         0.         0.         0.\n",
      "  0.         0.         0.         0.0627451  0.3647059  0.9882353\n",
      "  0.99215686 0.73333335 0.         0.         0.         0.\n",
      "  0.         0.         0.         0.        ]\n",
      " [0.         0.         0.         0.         0.         0.\n",
      "  0.         0.         0.         0.         0.         0.\n",
      "  0.         0.         0.         0.         0.         0.9764706\n",
      "  0.99215686 0.9764706  0.2509804  0.         0.         0.\n",
      "  0.         0.         0.         0.        ]\n",
      " [0.         0.         0.         0.         0.         0.\n",
      "  0.         0.         0.         0.         0.         0.\n",
      "  0.         0.         0.18039216 0.50980395 0.7176471  0.99215686\n",
      "  0.99215686 0.8117647  0.00784314 0.         0.         0.\n",
      "  0.         0.         0.         0.        ]\n",
      " [0.         0.         0.         0.         0.         0.\n",
      "  0.         0.         0.         0.         0.         0.\n",
      "  0.15294118 0.5803922  0.8980392  0.99215686 0.99215686 0.99215686\n",
      "  0.98039216 0.7137255  0.         0.         0.         0.\n",
      "  0.         0.         0.         0.        ]\n",
      " [0.         0.         0.         0.         0.         0.\n",
      "  0.         0.         0.         0.         0.09411765 0.44705883\n",
      "  0.8666667  0.99215686 0.99215686 0.99215686 0.99215686 0.7882353\n",
      "  0.30588236 0.         0.         0.         0.         0.\n",
      "  0.         0.         0.         0.        ]\n",
      " [0.         0.         0.         0.         0.         0.\n",
      "  0.         0.         0.09019608 0.25882354 0.8352941  0.99215686\n",
      "  0.99215686 0.99215686 0.99215686 0.7764706  0.31764707 0.00784314\n",
      "  0.         0.         0.         0.         0.         0.\n",
      "  0.         0.         0.         0.        ]\n",
      " [0.         0.         0.         0.         0.         0.\n",
      "  0.07058824 0.67058825 0.85882354 0.99215686 0.99215686 0.99215686\n",
      "  0.99215686 0.7647059  0.3137255  0.03529412 0.         0.\n",
      "  0.         0.         0.         0.         0.         0.\n",
      "  0.         0.         0.         0.        ]\n",
      " [0.         0.         0.         0.         0.21568628 0.6745098\n",
      "  0.8862745  0.99215686 0.99215686 0.99215686 0.99215686 0.95686275\n",
      "  0.52156866 0.04313726 0.         0.         0.         0.\n",
      "  0.         0.         0.         0.         0.         0.\n",
      "  0.         0.         0.         0.        ]\n",
      " [0.         0.         0.         0.         0.53333336 0.99215686\n",
      "  0.99215686 0.99215686 0.83137256 0.5294118  0.5176471  0.0627451\n",
      "  0.         0.         0.         0.         0.         0.\n",
      "  0.         0.         0.         0.         0.         0.\n",
      "  0.         0.         0.         0.        ]\n",
      " [0.         0.         0.         0.         0.         0.\n",
      "  0.         0.         0.         0.         0.         0.\n",
      "  0.         0.         0.         0.         0.         0.\n",
      "  0.         0.         0.         0.         0.         0.\n",
      "  0.         0.         0.         0.        ]\n",
      " [0.         0.         0.         0.         0.         0.\n",
      "  0.         0.         0.         0.         0.         0.\n",
      "  0.         0.         0.         0.         0.         0.\n",
      "  0.         0.         0.         0.         0.         0.\n",
      "  0.         0.         0.         0.        ]\n",
      " [0.         0.         0.         0.         0.         0.\n",
      "  0.         0.         0.         0.         0.         0.\n",
      "  0.         0.         0.         0.         0.         0.\n",
      "  0.         0.         0.         0.         0.         0.\n",
      "  0.         0.         0.         0.        ]]\n"
     ]
    }
   ],
   "source": [
    "print (x_train[0]) ## Se puede ver que todos los valores ahora estan normalizados"
   ]
  },
  {
   "cell_type": "markdown",
   "id": "cd2e8f7a",
   "metadata": {},
   "source": [
    "# Redimensionamiento de la imagen para hacerla apta y aplicar la operación de Convolución"
   ]
  },
  {
   "cell_type": "code",
   "execution_count": 231,
   "id": "d9daed26",
   "metadata": {},
   "outputs": [
    {
     "data": {
      "text/plain": [
       "(60000, 28, 28)"
      ]
     },
     "execution_count": 231,
     "metadata": {},
     "output_type": "execute_result"
    }
   ],
   "source": [
    "import numpy as np # pyp install numpy\n",
    "x_train = np.array(x_train)\n",
    "x_train.shape"
   ]
  },
  {
   "cell_type": "code",
   "execution_count": 232,
   "id": "5e67ed7e",
   "metadata": {},
   "outputs": [
    {
     "name": "stdout",
     "output_type": "stream",
     "text": [
      "Dimension de las muestras de ENTRENAMIENTO:  (60000, 28, 28, 1)\n",
      "Dimension de las muestras de TESTEO:  (10000, 28, 28, 1)\n"
     ]
    }
   ],
   "source": [
    "TAM_IMG = 28\n",
    "x_train = np.array(x_train).reshape(-1, TAM_IMG, TAM_IMG, 1) # Incrementando 1 dimension para las operaciones kernel(Filtro) \n",
    "x_test = np.array(x_test).reshape(-1, TAM_IMG, TAM_IMG, 1) # Incrementando 1 dimension para las operaciones kernel(Filtros) \n",
    "print(\"Dimension de las muestras de ENTRENAMIENTO: \", x_train.shape)\n",
    "print(\"Dimension de las muestras de TESTEO: \", x_test.shape)"
   ]
  },
  {
   "cell_type": "markdown",
   "id": "cd62056e",
   "metadata": {},
   "source": [
    "# Mostramos algunas imagenes del set de imagenes"
   ]
  },
  {
   "cell_type": "code",
   "execution_count": 234,
   "id": "20274e37",
   "metadata": {},
   "outputs": [
    {
     "data": {
      "image/png": "[encoded data removed]",
      "text/plain": [
       "<Figure size 864x288 with 16 Axes>"
      ]
     },
     "metadata": {
      "needs_background": "light"
     },
     "output_type": "display_data"
    }
   ],
   "source": [
    "filas = 2\n",
    "columnas = 8\n",
    "num = filas * columnas\n",
    "imagenes = x_train[0:num]\n",
    "etiquetas = y_train[0:num]\n",
    "fig, axes = plt.subplots(filas, columnas, figsize = (1.5 * columnas, 2 * filas))\n",
    "for i in range(num):\n",
    "     ax = axes[i // columnas, i % columnas]\n",
    "     ax.imshow(imagenes[i].reshape(28,28), cmap='gray_r')\n",
    "     ax.set_title('Label: {}'.format(np.argmax(etiquetas[i])))\n",
    "plt.tight_layout()\n",
    "plt.show()"
   ]
  },
  {
   "cell_type": "markdown",
   "id": "c855b735",
   "metadata": {},
   "source": [
    "## Creando una Red Neuronal Profunda (Deep Neural Network)\n",
    "### Entrenamiento en 60000 muestras del conjunto de datos escritos a mano MNIST"
   ]
  },
  {
   "cell_type": "code",
   "execution_count": 235,
   "id": "ce4c3131",
   "metadata": {},
   "outputs": [],
   "source": [
    "from tensorflow.keras.models import Sequential\n",
    "from tensorflow.keras.layers import Dense, Dropout, Activation, Flatten, Conv2D, MaxPooling2D"
   ]
  },
  {
   "cell_type": "code",
   "execution_count": 236,
   "id": "22d56df9",
   "metadata": {},
   "outputs": [],
   "source": [
    "### Creando una nueva red neuronal\n",
    "modelo = tf.keras.models.Sequential([\n",
    "    tf.keras.layers.Conv2D(32, (3,3), activation='relu', input_shape=(28, 28, 1)),\n",
    "    tf.keras.layers.MaxPooling2D(2,2),\n",
    "\n",
    "    tf.keras.layers.Conv2D(64, (3,3), activation='relu'),\n",
    "    tf.keras.layers.MaxPooling2D(2,2),\n",
    "\n",
    "    tf.keras.layers.Dropout(0.5),\n",
    "    tf.keras.layers.Flatten(),\n",
    "    tf.keras.layers.Dense(100, activation='relu'),\n",
    "    tf.keras.layers.Dense(10, activation=\"softmax\")\n",
    "])\n",
    "\n",
    "#Compilación\n",
    "modelo.compile(optimizer='adam',\n",
    "              loss='categorical_crossentropy',\n",
    "              metrics=['accuracy'])"
   ]
  },
  {
   "cell_type": "markdown",
   "id": "312613a9",
   "metadata": {},
   "source": [
    "# Vemos las caracteristias de nuestra Red Neuronal Convolucional"
   ]
  },
  {
   "cell_type": "code",
   "execution_count": 237,
   "id": "c422074f",
   "metadata": {},
   "outputs": [
    {
     "name": "stdout",
     "output_type": "stream",
     "text": [
      "Model: \"sequential_10\"\n",
      "_________________________________________________________________\n",
      " Layer (type)                Output Shape              Param #   \n",
      "=================================================================\n",
      " conv2d_18 (Conv2D)          (None, 26, 26, 32)        320       \n",
      "                                                                 \n",
      " max_pooling2d_16 (MaxPoolin  (None, 13, 13, 32)       0         \n",
      " g2D)                                                            \n",
      "                                                                 \n",
      " conv2d_19 (Conv2D)          (None, 11, 11, 64)        18496     \n",
      "                                                                 \n",
      " max_pooling2d_17 (MaxPoolin  (None, 5, 5, 64)         0         \n",
      " g2D)                                                            \n",
      "                                                                 \n",
      " dropout_8 (Dropout)         (None, 5, 5, 64)          0         \n",
      "                                                                 \n",
      " flatten_8 (Flatten)         (None, 1600)              0         \n",
      "                                                                 \n",
      " dense_16 (Dense)            (None, 100)               160100    \n",
      "                                                                 \n",
      " dense_17 (Dense)            (None, 10)                1010      \n",
      "                                                                 \n",
      "=================================================================\n",
      "Total params: 179,926\n",
      "Trainable params: 179,926\n",
      "Non-trainable params: 0\n",
      "_________________________________________________________________\n"
     ]
    }
   ],
   "source": [
    "modelo.summary()"
   ]
  },
  {
   "cell_type": "markdown",
   "id": "0572b756",
   "metadata": {},
   "source": [
    "# Entrenamos nuestro modelo con 20 etapas de procesamiento "
   ]
  },
  {
   "cell_type": "code",
   "execution_count": 251,
   "id": "e77ef825",
   "metadata": {},
   "outputs": [
    {
     "name": "stdout",
     "output_type": "stream",
     "text": [
      "Entrenando modelo...\n",
      "Epoch 1/20\n",
      "1875/1875 [==============================] - 29s 15ms/step - loss: 0.0223 - accuracy: 0.9930 - val_loss: 0.0180 - val_accuracy: 0.9937\n",
      "Epoch 2/20\n",
      "1875/1875 [==============================] - 30s 16ms/step - loss: 0.0189 - accuracy: 0.9938 - val_loss: 0.0222 - val_accuracy: 0.9927\n",
      "Epoch 3/20\n",
      "1875/1875 [==============================] - 30s 16ms/step - loss: 0.0186 - accuracy: 0.9937 - val_loss: 0.0185 - val_accuracy: 0.9941\n",
      "Epoch 4/20\n",
      "1875/1875 [==============================] - 30s 16ms/step - loss: 0.0165 - accuracy: 0.9947 - val_loss: 0.0200 - val_accuracy: 0.9943\n",
      "Epoch 5/20\n",
      "1875/1875 [==============================] - 29s 16ms/step - loss: 0.0172 - accuracy: 0.9940 - val_loss: 0.0217 - val_accuracy: 0.9934\n",
      "Epoch 6/20\n",
      "1875/1875 [==============================] - 29s 15ms/step - loss: 0.0160 - accuracy: 0.9945 - val_loss: 0.0198 - val_accuracy: 0.9932\n",
      "Epoch 7/20\n",
      "1875/1875 [==============================] - 29s 15ms/step - loss: 0.0158 - accuracy: 0.9950 - val_loss: 0.0255 - val_accuracy: 0.9921\n",
      "Epoch 8/20\n",
      "1875/1875 [==============================] - 29s 15ms/step - loss: 0.0151 - accuracy: 0.9952 - val_loss: 0.0227 - val_accuracy: 0.9939\n",
      "Epoch 9/20\n",
      "1875/1875 [==============================] - 29s 16ms/step - loss: 0.0136 - accuracy: 0.9954 - val_loss: 0.0219 - val_accuracy: 0.9928\n",
      "Epoch 10/20\n",
      "1875/1875 [==============================] - 29s 16ms/step - loss: 0.0133 - accuracy: 0.9957 - val_loss: 0.0280 - val_accuracy: 0.9916\n",
      "Epoch 11/20\n",
      "1875/1875 [==============================] - 29s 15ms/step - loss: 0.0139 - accuracy: 0.9950 - val_loss: 0.0215 - val_accuracy: 0.9934\n",
      "Epoch 12/20\n",
      "1875/1875 [==============================] - 30s 16ms/step - loss: 0.0125 - accuracy: 0.9959 - val_loss: 0.0230 - val_accuracy: 0.9925\n",
      "Epoch 13/20\n",
      "1875/1875 [==============================] - 29s 15ms/step - loss: 0.0123 - accuracy: 0.9958 - val_loss: 0.0236 - val_accuracy: 0.9941\n",
      "Epoch 14/20\n",
      "1875/1875 [==============================] - 29s 16ms/step - loss: 0.0119 - accuracy: 0.9959 - val_loss: 0.0245 - val_accuracy: 0.9935\n",
      "Epoch 15/20\n",
      "1875/1875 [==============================] - 29s 16ms/step - loss: 0.0121 - accuracy: 0.9960 - val_loss: 0.0240 - val_accuracy: 0.9944\n",
      "Epoch 16/20\n",
      "1875/1875 [==============================] - 29s 16ms/step - loss: 0.0114 - accuracy: 0.9965 - val_loss: 0.0227 - val_accuracy: 0.9935\n",
      "Epoch 17/20\n",
      "1875/1875 [==============================] - 30s 16ms/step - loss: 0.0121 - accuracy: 0.9959 - val_loss: 0.0257 - val_accuracy: 0.9936\n",
      "Epoch 18/20\n",
      "1875/1875 [==============================] - 34s 18ms/step - loss: 0.0107 - accuracy: 0.9963 - val_loss: 0.0236 - val_accuracy: 0.9938\n",
      "Epoch 19/20\n",
      "1875/1875 [==============================] - 36s 19ms/step - loss: 0.0096 - accuracy: 0.9966 - val_loss: 0.0292 - val_accuracy: 0.9936\n",
      "Epoch 20/20\n",
      "1875/1875 [==============================] - 36s 19ms/step - loss: 0.0122 - accuracy: 0.9961 - val_loss: 0.0218 - val_accuracy: 0.9937\n",
      "Modelo entrenado!\n"
     ]
    }
   ],
   "source": [
    "TAMANO_LOTE = 32\n",
    "print(\"Entrenando modelo...\");\n",
    "etapas = 20\n",
    "history = modelo.fit(\n",
    "    x_train, y_train,\n",
    "    epochs = etapas,\n",
    "    batch_size=TAMANO_LOTE,\n",
    "    validation_data=(x_test, y_test),\n",
    "    steps_per_epoch=int(np.ceil(60000 / float(TAMANO_LOTE))),\n",
    "    validation_steps=int(np.ceil(10000 / float(TAMANO_LOTE)))\n",
    ")\n",
    "\n",
    "print(\"Modelo entrenado!\");"
   ]
  },
  {
   "cell_type": "markdown",
   "id": "82ec540a",
   "metadata": {},
   "source": [
    "# Guardamos nuestras predicciones de la data de Testeo"
   ]
  },
  {
   "cell_type": "code",
   "execution_count": 252,
   "id": "1846954d",
   "metadata": {},
   "outputs": [
    {
     "name": "stdout",
     "output_type": "stream",
     "text": [
      "313/313 [==============================] - 2s 7ms/step\n"
     ]
    }
   ],
   "source": [
    "predicciones = modelo.predict([x_test])"
   ]
  },
  {
   "cell_type": "markdown",
   "id": "b9b76d4a",
   "metadata": {},
   "source": [
    "# Hacemos una pequeña predicción de un elemento de la data y comprobamos"
   ]
  },
  {
   "cell_type": "code",
   "execution_count": 249,
   "id": "20412ccd",
   "metadata": {},
   "outputs": [
    {
     "name": "stdout",
     "output_type": "stream",
     "text": [
      "9\n"
     ]
    },
    {
     "data": {
      "text/plain": [
       "<matplotlib.image.AxesImage at 0x2360c005940>"
      ]
     },
     "execution_count": 249,
     "metadata": {},
     "output_type": "execute_result"
    },
    {
     "data": {
      "image/png": "[encoded data removed]",
      "text/plain": [
       "<Figure size 432x288 with 1 Axes>"
      ]
     },
     "metadata": {
      "needs_background": "light"
     },
     "output_type": "display_data"
    }
   ],
   "source": [
    "print(np.argmax(predicciones[9]))\n",
    "plt.imshow(x_test[9], cmap = plt.cm.binary)"
   ]
  },
  {
   "cell_type": "markdown",
   "id": "ce27a2f6",
   "metadata": {},
   "source": [
    "# Guardamos nuestro modelo entrenado en el formato óptimo .h5"
   ]
  },
  {
   "cell_type": "code",
   "execution_count": 254,
   "id": "c1ff875f",
   "metadata": {},
   "outputs": [],
   "source": [
    "modelo.save('numeros.h5')"
   ]
  },
  {
   "cell_type": "markdown",
   "id": "5b68d40a",
   "metadata": {},
   "source": [
    "# Comprobamos que se guardó bien en nuestro ordenador"
   ]
  },
  {
   "cell_type": "code",
   "execution_count": 242,
   "id": "dc1e92dc",
   "metadata": {},
   "outputs": [
    {
     "name": "stdout",
     "output_type": "stream",
     "text": [
      " El volumen de la unidad C es Windows-SSD\n",
      " El n£mero de serie del volumen es: 0C4A-0296\n",
      "\n",
      " Directorio de C:\\Users\\ANGELLO\\Desktop\\Handwritting\n",
      "\n",
      "14/07/2022  19:39    <DIR>          .\n",
      "14/07/2022  19:39    <DIR>          ..\n",
      "10/07/2022  00:23    <DIR>          .ipynb_checkpoints\n",
      "14/07/2022  15:25    <DIR>          carpeta_salida\n",
      "14/07/2022  19:41         2,206,352 numeros.h5\n",
      "14/07/2022  19:39           127,129 Untitled.ipynb\n",
      "               2 archivos      2,333,481 bytes\n",
      "               4 dirs  117,977,460,736 bytes libres\n"
     ]
    }
   ],
   "source": [
    "!dir"
   ]
  },
  {
   "cell_type": "markdown",
   "id": "85114740",
   "metadata": {},
   "source": [
    "# Instalamos la libreria Tensorflowjs para exportar nuestro modelo .h5 en un formato .json"
   ]
  },
  {
   "cell_type": "code",
   "execution_count": 243,
   "id": "030bb112",
   "metadata": {},
   "outputs": [
    {
     "name": "stdout",
     "output_type": "stream",
     "text": [
      "Requirement already satisfied: tensorflowjs in c:\\users\\angello\\anaconda3\\lib\\site-packages (3.18.0)\n",
      "Requirement already satisfied: tensorflow-hub<0.13,>=0.7.0 in c:\\users\\angello\\anaconda3\\lib\\site-packages (from tensorflowjs) (0.12.0)\n",
      "Requirement already satisfied: six<2,>=1.12.0 in c:\\users\\angello\\anaconda3\\lib\\site-packages (from tensorflowjs) (1.16.0)\n",
      "Requirement already satisfied: packaging~=20.9 in c:\\users\\angello\\anaconda3\\lib\\site-packages (from tensorflowjs) (20.9)\n",
      "Requirement already satisfied: tensorflow<3,>=2.1.0 in c:\\users\\angello\\anaconda3\\lib\\site-packages (from tensorflowjs) (2.9.1)\n",
      "Requirement already satisfied: pyparsing>=2.0.2 in c:\\users\\angello\\anaconda3\\lib\\site-packages (from packaging~=20.9->tensorflowjs) (3.0.4)\n",
      "Requirement already satisfied: typing-extensions>=3.6.6 in c:\\users\\angello\\anaconda3\\lib\\site-packages (from tensorflow<3,>=2.1.0->tensorflowjs) (4.1.1)\n",
      "Requirement already satisfied: termcolor>=1.1.0 in c:\\users\\angello\\anaconda3\\lib\\site-packages (from tensorflow<3,>=2.1.0->tensorflowjs) (1.1.0)\n",
      "Requirement already satisfied: opt-einsum>=2.3.2 in c:\\users\\angello\\anaconda3\\lib\\site-packages (from tensorflow<3,>=2.1.0->tensorflowjs) (3.3.0)\n",
      "Requirement already satisfied: h5py>=2.9.0 in c:\\users\\angello\\anaconda3\\lib\\site-packages (from tensorflow<3,>=2.1.0->tensorflowjs) (3.6.0)\n",
      "Requirement already satisfied: tensorflow-estimator<2.10.0,>=2.9.0rc0 in c:\\users\\angello\\anaconda3\\lib\\site-packages (from tensorflow<3,>=2.1.0->tensorflowjs) (2.9.0)\n",
      "Requirement already satisfied: grpcio<2.0,>=1.24.3 in c:\\users\\angello\\anaconda3\\lib\\site-packages (from tensorflow<3,>=2.1.0->tensorflowjs) (1.42.0)\n",
      "Requirement already satisfied: tensorflow-io-gcs-filesystem>=0.23.1 in c:\\users\\angello\\anaconda3\\lib\\site-packages (from tensorflow<3,>=2.1.0->tensorflowjs) (0.26.0)\n",
      "Requirement already satisfied: libclang>=13.0.0 in c:\\users\\angello\\anaconda3\\lib\\site-packages (from tensorflow<3,>=2.1.0->tensorflowjs) (14.0.1)\n",
      "Requirement already satisfied: wrapt>=1.11.0 in c:\\users\\angello\\anaconda3\\lib\\site-packages (from tensorflow<3,>=2.1.0->tensorflowjs) (1.12.1)\n",
      "Requirement already satisfied: astunparse>=1.6.0 in c:\\users\\angello\\anaconda3\\lib\\site-packages (from tensorflow<3,>=2.1.0->tensorflowjs) (1.6.3)\n",
      "Requirement already satisfied: keras-preprocessing>=1.1.1 in c:\\users\\angello\\anaconda3\\lib\\site-packages (from tensorflow<3,>=2.1.0->tensorflowjs) (1.1.2)\n",
      "Requirement already satisfied: numpy>=1.20 in c:\\users\\angello\\anaconda3\\lib\\site-packages (from tensorflow<3,>=2.1.0->tensorflowjs) (1.21.5)\n",
      "Requirement already satisfied: tensorboard<2.10,>=2.9 in c:\\users\\angello\\anaconda3\\lib\\site-packages (from tensorflow<3,>=2.1.0->tensorflowjs) (2.9.1)\n",
      "Requirement already satisfied: protobuf<3.20,>=3.9.2 in c:\\users\\angello\\anaconda3\\lib\\site-packages (from tensorflow<3,>=2.1.0->tensorflowjs) (3.19.1)\n",
      "Requirement already satisfied: setuptools in c:\\users\\angello\\anaconda3\\lib\\site-packages (from tensorflow<3,>=2.1.0->tensorflowjs) (61.2.0)\n",
      "Requirement already satisfied: google-pasta>=0.1.1 in c:\\users\\angello\\anaconda3\\lib\\site-packages (from tensorflow<3,>=2.1.0->tensorflowjs) (0.2.0)\n",
      "Requirement already satisfied: gast<=0.4.0,>=0.2.1 in c:\\users\\angello\\anaconda3\\lib\\site-packages (from tensorflow<3,>=2.1.0->tensorflowjs) (0.4.0)\n",
      "Requirement already satisfied: keras<2.10.0,>=2.9.0rc0 in c:\\users\\angello\\anaconda3\\lib\\site-packages (from tensorflow<3,>=2.1.0->tensorflowjs) (2.9.0)\n",
      "Requirement already satisfied: absl-py>=1.0.0 in c:\\users\\angello\\anaconda3\\lib\\site-packages (from tensorflow<3,>=2.1.0->tensorflowjs) (1.1.0)\n",
      "Requirement already satisfied: flatbuffers<2,>=1.12 in c:\\users\\angello\\anaconda3\\lib\\site-packages (from tensorflow<3,>=2.1.0->tensorflowjs) (1.12)\n",
      "Requirement already satisfied: wheel<1.0,>=0.23.0 in c:\\users\\angello\\anaconda3\\lib\\site-packages (from astunparse>=1.6.0->tensorflow<3,>=2.1.0->tensorflowjs) (0.37.1)\n",
      "Requirement already satisfied: markdown>=2.6.8 in c:\\users\\angello\\anaconda3\\lib\\site-packages (from tensorboard<2.10,>=2.9->tensorflow<3,>=2.1.0->tensorflowjs) (3.3.4)\n",
      "Requirement already satisfied: tensorboard-plugin-wit>=1.6.0 in c:\\users\\angello\\anaconda3\\lib\\site-packages (from tensorboard<2.10,>=2.9->tensorflow<3,>=2.1.0->tensorflowjs) (1.8.1)\n",
      "Requirement already satisfied: requests<3,>=2.21.0 in c:\\users\\angello\\anaconda3\\lib\\site-packages (from tensorboard<2.10,>=2.9->tensorflow<3,>=2.1.0->tensorflowjs) (2.27.1)\n",
      "Requirement already satisfied: google-auth-oauthlib<0.5,>=0.4.1 in c:\\users\\angello\\anaconda3\\lib\\site-packages (from tensorboard<2.10,>=2.9->tensorflow<3,>=2.1.0->tensorflowjs) (0.4.6)\n",
      "Requirement already satisfied: google-auth<3,>=1.6.3 in c:\\users\\angello\\anaconda3\\lib\\site-packages (from tensorboard<2.10,>=2.9->tensorflow<3,>=2.1.0->tensorflowjs) (1.33.0)\n",
      "Requirement already satisfied: werkzeug>=1.0.1 in c:\\users\\angello\\anaconda3\\lib\\site-packages (from tensorboard<2.10,>=2.9->tensorflow<3,>=2.1.0->tensorflowjs) (2.0.3)\n",
      "Requirement already satisfied: tensorboard-data-server<0.7.0,>=0.6.0 in c:\\users\\angello\\anaconda3\\lib\\site-packages (from tensorboard<2.10,>=2.9->tensorflow<3,>=2.1.0->tensorflowjs) (0.6.1)\n",
      "Requirement already satisfied: cachetools<5.0,>=2.0.0 in c:\\users\\angello\\anaconda3\\lib\\site-packages (from google-auth<3,>=1.6.3->tensorboard<2.10,>=2.9->tensorflow<3,>=2.1.0->tensorflowjs) (4.2.2)\n",
      "Requirement already satisfied: pyasn1-modules>=0.2.1 in c:\\users\\angello\\anaconda3\\lib\\site-packages (from google-auth<3,>=1.6.3->tensorboard<2.10,>=2.9->tensorflow<3,>=2.1.0->tensorflowjs) (0.2.8)\n",
      "Requirement already satisfied: rsa<5,>=3.1.4 in c:\\users\\angello\\anaconda3\\lib\\site-packages (from google-auth<3,>=1.6.3->tensorboard<2.10,>=2.9->tensorflow<3,>=2.1.0->tensorflowjs) (4.7.2)\n",
      "Requirement already satisfied: requests-oauthlib>=0.7.0 in c:\\users\\angello\\anaconda3\\lib\\site-packages (from google-auth-oauthlib<0.5,>=0.4.1->tensorboard<2.10,>=2.9->tensorflow<3,>=2.1.0->tensorflowjs) (1.3.1)\n",
      "Requirement already satisfied: pyasn1<0.5.0,>=0.4.6 in c:\\users\\angello\\anaconda3\\lib\\site-packages (from pyasn1-modules>=0.2.1->google-auth<3,>=1.6.3->tensorboard<2.10,>=2.9->tensorflow<3,>=2.1.0->tensorflowjs) (0.4.8)\n",
      "Requirement already satisfied: urllib3<1.27,>=1.21.1 in c:\\users\\angello\\anaconda3\\lib\\site-packages (from requests<3,>=2.21.0->tensorboard<2.10,>=2.9->tensorflow<3,>=2.1.0->tensorflowjs) (1.26.9)\n",
      "Requirement already satisfied: charset-normalizer~=2.0.0 in c:\\users\\angello\\anaconda3\\lib\\site-packages (from requests<3,>=2.21.0->tensorboard<2.10,>=2.9->tensorflow<3,>=2.1.0->tensorflowjs) (2.0.4)\n",
      "Requirement already satisfied: certifi>=2017.4.17 in c:\\users\\angello\\anaconda3\\lib\\site-packages (from requests<3,>=2.21.0->tensorboard<2.10,>=2.9->tensorflow<3,>=2.1.0->tensorflowjs) (2021.10.8)\n",
      "Requirement already satisfied: idna<4,>=2.5 in c:\\users\\angello\\anaconda3\\lib\\site-packages (from requests<3,>=2.21.0->tensorboard<2.10,>=2.9->tensorflow<3,>=2.1.0->tensorflowjs) (3.3)\n",
      "Requirement already satisfied: oauthlib>=3.0.0 in c:\\users\\angello\\anaconda3\\lib\\site-packages (from requests-oauthlib>=0.7.0->google-auth-oauthlib<0.5,>=0.4.1->tensorboard<2.10,>=2.9->tensorflow<3,>=2.1.0->tensorflowjs) (3.2.0)\n"
     ]
    }
   ],
   "source": [
    "!pip3 install tensorflowjs"
   ]
  },
  {
   "cell_type": "markdown",
   "id": "f565bc43",
   "metadata": {},
   "source": [
    "# Convertimos nuestro modelo en formato .json y lo guardamos en nuestro ordenador"
   ]
  },
  {
   "cell_type": "code",
   "execution_count": 255,
   "id": "bfdee79f",
   "metadata": {},
   "outputs": [
    {
     "name": "stderr",
     "output_type": "stream",
     "text": [
      "2022-07-14 20:20:03.187814: W tensorflow/stream_executor/platform/default/dso_loader.cc:64] Could not load dynamic library 'cudart64_110.dll'; dlerror: cudart64_110.dll not found\n",
      "2022-07-14 20:20:03.188164: I tensorflow/stream_executor/cuda/cudart_stub.cc:29] Ignore above cudart dlerror if you do not have a GPU set up on your machine.\n"
     ]
    }
   ],
   "source": [
    "!tensorflowjs_converter --input_format keras numeros.h5 carpeta_salida"
   ]
  },
  {
   "cell_type": "markdown",
   "id": "1f18a5f3",
   "metadata": {},
   "source": [
    "# Comprobamos que se realizó con éxito nuestra conversión y tenemos todos los archivos necesarios para importar nuestro modelo a nuestro servidor local"
   ]
  },
  {
   "cell_type": "code",
   "execution_count": 245,
   "id": "487c1fa1",
   "metadata": {},
   "outputs": [
    {
     "name": "stdout",
     "output_type": "stream",
     "text": [
      " El volumen de la unidad C es Windows-SSD\n",
      " El n£mero de serie del volumen es: 0C4A-0296\n",
      "\n",
      " Directorio de C:\\Users\\ANGELLO\\Desktop\\Handwritting\\carpeta_salida\n",
      "\n",
      "14/07/2022  15:25    <DIR>          .\n",
      "14/07/2022  15:25    <DIR>          ..\n",
      "14/07/2022  14:58               463 drawing.js\n",
      "14/07/2022  14:58           307,775 fabric.min.js\n",
      "14/07/2022  19:41           719,704 group1-shard1of1.bin\n",
      "14/07/2022  18:02             9,171 index.html\n",
      "14/07/2022  19:41             4,207 model.json\n",
      "               5 archivos      1,041,320 bytes\n",
      "               2 dirs  117,977,251,840 bytes libres\n"
     ]
    }
   ],
   "source": [
    "!dir carpeta_salida"
   ]
  }
 ],
 "metadata": {
  "kernelspec": {
   "display_name": "Python 3 (ipykernel)",
   "language": "python",
   "name": "python3"
  },
  "language_info": {
   "codemirror_mode": {
    "name": "ipython",
    "version": 3
   },
   "file_extension": ".py",
   "mimetype": "text/x-python",
   "name": "python",
   "nbconvert_exporter": "python",
   "pygments_lexer": "ipython3",
   "version": "3.9.12"
  },
  "vscode": {
   "interpreter": {
    "hash": "be914e7513e46b74d1fe728813d92c7b0d88cc3ea1530fbc101cfcf259cce63f"
   }
  }
 },
 "nbformat": 4,
 "nbformat_minor": 5
}
